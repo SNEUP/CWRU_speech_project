{
 "cells": [
  {
   "cell_type": "code",
   "id": "initial_id",
   "metadata": {
    "ExecuteTime": {
     "end_time": "2024-06-26T21:19:17.296104Z",
     "start_time": "2024-06-26T21:19:13.930659Z"
    }
   },
   "source": [
    "import numpy as np\n",
    "\n",
    "\n",
    "from Bolu_IFG.utils import *\n",
    "import matplotlib.pyplot as plt\n",
    "from nltk.stem import WordNetLemmatizer\n",
    "import collections\n",
    "from sklearn.decomposition import PCA\n",
    "from torchtext import vocab as Vocab\n",
    "from Bolu_IFG.AlignPhonemeNet import AlignPhonemeNet\n",
    "from sklearn.manifold import TSNE\n",
    "from tqdm import tqdm\n",
    "#from gruut import sentences\n",
    "from abydos.abydos import distance as D\n",
    "from sklearn.cross_decomposition import CCA\n",
    "# Download the CMU Pronouncing Dictionary\n",
    "nltk.download('cmudict')\n",
    "# Create a sentence to phoneme dictionary\n",
    "\n",
    "words_to_phonemes = nltk.corpus.cmudict.dict()"
   ],
   "outputs": [
    {
     "name": "stderr",
     "output_type": "stream",
     "text": [
      "[nltk_data] Downloading package cmudict to /Users/tlc0494/nltk_data...\n",
      "[nltk_data]   Package cmudict is already up-to-date!\n",
      "/Users/tlc0494/opt/miniconda3/envs/mini_rotation_josh_aarch64/lib/python3.9/site-packages/torchtext/vocab/__init__.py:4: UserWarning: \n",
      "/!\\ IMPORTANT WARNING ABOUT TORCHTEXT STATUS /!\\ \n",
      "Torchtext is deprecated and the last released version will be 0.18 (this one). You can silence this warning by calling the following at the beginnign of your scripts: `import torchtext; torchtext.disable_torchtext_deprecation_warning()`\n",
      "  warnings.warn(torchtext._TORCHTEXT_DEPRECATION_MSG)\n",
      "/Users/tlc0494/opt/miniconda3/envs/mini_rotation_josh_aarch64/lib/python3.9/site-packages/torchtext/utils.py:4: UserWarning: \n",
      "/!\\ IMPORTANT WARNING ABOUT TORCHTEXT STATUS /!\\ \n",
      "Torchtext is deprecated and the last released version will be 0.18 (this one). You can silence this warning by calling the following at the beginnign of your scripts: `import torchtext; torchtext.disable_torchtext_deprecation_warning()`\n",
      "  warnings.warn(torchtext._TORCHTEXT_DEPRECATION_MSG)\n",
      "[nltk_data] Downloading package cmudict to /Users/tlc0494/nltk_data...\n",
      "[nltk_data]   Package cmudict is already up-to-date!\n",
      "[nltk_data] Downloading package cmudict to /Users/tlc0494/nltk_data...\n",
      "[nltk_data]   Package cmudict is already up-to-date!\n"
     ]
    }
   ],
   "execution_count": 1
  },
  {
   "metadata": {
    "ExecuteTime": {
     "end_time": "2024-06-26T21:20:18.386307Z",
     "start_time": "2024-06-26T21:19:20.699032Z"
    }
   },
   "cell_type": "code",
   "source": [
    "band='spike_band' ## this could be high gamma band or spike band\n",
    "date = 'Jan05_2024'  # here we have Jan05_2024,\n",
    "raw_data_jan = get_raw(date, band)\n",
    "date = 'Dec06_2023'  # here we have Jan05_2024, Dec06_2023 data\n",
    "raw_data_dec = get_raw(date, band)\n",
    "fs = 2000"
   ],
   "id": "ce7ded60dfbf48bc",
   "outputs": [],
   "execution_count": 2
  },
  {
   "metadata": {},
   "cell_type": "markdown",
   "source": [
    "## Align the data across days for better results\n",
    "In Gallego's paper they used single trial based alignment. Here based on lack of the trial we are doing trial averaged alignment."
   ],
   "id": "9e977e77c8922047"
  },
  {
   "metadata": {
    "ExecuteTime": {
     "end_time": "2024-06-26T21:20:18.390284Z",
     "start_time": "2024-06-26T21:20:18.387229Z"
    }
   },
   "cell_type": "code",
   "source": [
    "# first step: find the common words\n",
    "answered_words_jan = [a[0][0][0] for a in raw_data_jan[8].to_numpy()] \n",
    "answered_words_dec=[a[0][0][0] for a in raw_data_dec[8].to_numpy()] \n",
    "answered_words_common=list(set(answered_words_jan) & set(answered_words_dec))\n",
    "print(answered_words_common)"
   ],
   "id": "9f11ce4575340226",
   "outputs": [
    {
     "name": "stdout",
     "output_type": "stream",
     "text": [
      "['k', 'p', 'r', 't', 'c', 'b']\n"
     ]
    }
   ],
   "execution_count": 3
  },
  {
   "metadata": {
    "ExecuteTime": {
     "end_time": "2024-06-26T21:20:19.002206Z",
     "start_time": "2024-06-26T21:20:18.391065Z"
    }
   },
   "cell_type": "code",
   "source": [
    "# find the trials in both days. Data to align: 0-500ms after speech onset. Trial averaged for each word.\n",
    "raw_data_jan_clean,_,_,_,_= data_cleaning(raw_data_jan)\n",
    "raw_data_dec_clean,_,_,_,_= data_cleaning(raw_data_dec)\n",
    "n_trials_dec=len(raw_data_dec_clean)\n",
    "n_trials_jan=len(raw_data_jan_clean)\n",
    "_,reject_channels,_,_,_ = data_cleaning(pd.concat([raw_data_jan,raw_data_dec]))"
   ],
   "id": "43ac431b05833d94",
   "outputs": [
    {
     "name": "stderr",
     "output_type": "stream",
     "text": [
      "/Users/tlc0494/Library/CloudStorage/OneDrive-NorthwesternUniversity/PycharmProjects/Speech/Bolu_IFG/utils.py:140: RuntimeWarning: Mean of empty slice.\n",
      "  trial_std = np.array([t.mean(axis=0).std() for t in channel_clean_data])\n",
      "/Users/tlc0494/opt/miniconda3/envs/mini_rotation_josh_aarch64/lib/python3.9/site-packages/numpy/core/_methods.py:184: RuntimeWarning: invalid value encountered in divide\n",
      "  ret = um.true_divide(\n"
     ]
    }
   ],
   "execution_count": 4
  },
  {
   "metadata": {
    "ExecuteTime": {
     "end_time": "2024-06-26T21:20:19.193939Z",
     "start_time": "2024-06-26T21:20:19.003378Z"
    }
   },
   "cell_type": "code",
   "source": [
    "back=0.5\n",
    "forward=0.5\n",
    "process_data_dec=[]\n",
    "process_data_jan=[]\n",
    "for word in answered_words_common:\n",
    "    raw_data_dec_clean_common=raw_data_dec_clean[raw_data_dec_clean[8]==word]\n",
    "    raw_data_jan_clean_common=raw_data_jan_clean[raw_data_jan_clean[8]==word]\n",
    "    \n",
    "    clean_data_dec_common=[np.delete(a,reject_channels,axis=0) for a in raw_data_dec_clean_common[1].to_list()]\n",
    "    clean_data_jan_common=[np.delete(a,reject_channels,axis=0) for a in raw_data_jan_clean_common[1].to_list()]\n",
    "    \n",
    "    voice_on_dec = raw_data_dec_clean_common[6].to_numpy()\n",
    "    voice_on_jan = raw_data_jan_clean_common[6].to_numpy()\n",
    "    \n",
    "    processed_data_voice_on_dec=np.mean([trial[:,int(voice_on_dec[i]*fs-back*fs) : int(voice_on_dec[i]*fs+forward*fs)] for i,trial in enumerate(clean_data_dec_common)],axis=0)\n",
    "    processed_data_voice_on_jan=np.mean([trial[:,int(voice_on_jan[i]*fs-back*fs) : int(voice_on_jan[i]*fs+forward*fs)] for i,trial in enumerate(clean_data_jan_common)],axis=0)\n",
    "    \n",
    "    process_data_dec.append(processed_data_voice_on_dec)\n",
    "    process_data_jan.append(processed_data_voice_on_jan)\n",
    "process_data_jan=np.concatenate(process_data_jan,axis=-1)\n",
    "process_data_dec=np.concatenate(process_data_dec,axis=-1)"
   ],
   "id": "d33012d0203cd4d0",
   "outputs": [
    {
     "name": "stderr",
     "output_type": "stream",
     "text": [
      "/Users/tlc0494/opt/miniconda3/envs/mini_rotation_josh_aarch64/lib/python3.9/site-packages/numpy/core/fromnumeric.py:3464: RuntimeWarning: Mean of empty slice.\n",
      "  return _methods._mean(a, axis=axis, dtype=dtype,\n",
      "/Users/tlc0494/opt/miniconda3/envs/mini_rotation_josh_aarch64/lib/python3.9/site-packages/numpy/core/_methods.py:192: RuntimeWarning: invalid value encountered in scalar divide\n",
      "  ret = ret.dtype.type(ret / rcount)\n"
     ]
    },
    {
     "ename": "ValueError",
     "evalue": "zero-dimensional arrays cannot be concatenated",
     "output_type": "error",
     "traceback": [
      "\u001B[0;31m---------------------------------------------------------------------------\u001B[0m",
      "\u001B[0;31mValueError\u001B[0m                                Traceback (most recent call last)",
      "Cell \u001B[0;32mIn[5], line 20\u001B[0m\n\u001B[1;32m     18\u001B[0m     process_data_dec\u001B[38;5;241m.\u001B[39mappend(processed_data_voice_on_dec)\n\u001B[1;32m     19\u001B[0m     process_data_jan\u001B[38;5;241m.\u001B[39mappend(processed_data_voice_on_jan)\n\u001B[0;32m---> 20\u001B[0m process_data_jan\u001B[38;5;241m=\u001B[39m\u001B[43mnp\u001B[49m\u001B[38;5;241;43m.\u001B[39;49m\u001B[43mconcatenate\u001B[49m\u001B[43m(\u001B[49m\u001B[43mprocess_data_jan\u001B[49m\u001B[43m,\u001B[49m\u001B[43maxis\u001B[49m\u001B[38;5;241;43m=\u001B[39;49m\u001B[38;5;241;43m-\u001B[39;49m\u001B[38;5;241;43m1\u001B[39;49m\u001B[43m)\u001B[49m\n\u001B[1;32m     21\u001B[0m process_data_dec\u001B[38;5;241m=\u001B[39mnp\u001B[38;5;241m.\u001B[39mconcatenate(process_data_dec,axis\u001B[38;5;241m=\u001B[39m\u001B[38;5;241m-\u001B[39m\u001B[38;5;241m1\u001B[39m)\n",
      "File \u001B[0;32m<__array_function__ internals>:200\u001B[0m, in \u001B[0;36mconcatenate\u001B[0;34m(*args, **kwargs)\u001B[0m\n",
      "\u001B[0;31mValueError\u001B[0m: zero-dimensional arrays cannot be concatenated"
     ]
    }
   ],
   "execution_count": 5
  },
  {
   "metadata": {
    "ExecuteTime": {
     "end_time": "2024-06-26T21:20:23.921354Z",
     "start_time": "2024-06-26T21:20:23.918288Z"
    }
   },
   "cell_type": "code",
   "source": [
    "cca=CCA(n_components=10)\n",
    "#cca.fit(process_data_dec.T,process_data_jan.T) # here fit jan data to align to dec data. (the reverse should be fine? but need to change the following steps)"
   ],
   "id": "bc08ad99912ee84c",
   "outputs": [],
   "execution_count": 6
  },
  {
   "metadata": {
    "ExecuteTime": {
     "end_time": "2024-06-26T21:20:32.061099Z",
     "start_time": "2024-06-26T21:20:25.649168Z"
    }
   },
   "cell_type": "code",
   "source": [
    "# concatenate data\n",
    "raw_data = pd.concat([raw_data_jan,raw_data_dec])\n",
    "# clean the data\n",
    "raw_data,reject_channels,reject_trials,channel_std,trial_std = data_cleaning(raw_data)\n",
    "print(f\"rejected_channels: {reject_channels} \\n\")\n",
    "print(f\"rejected_trials: {reject_trials}\")\n",
    "\n",
    "clean_data=[np.delete(a,reject_channels,axis=0) for a in raw_data[1].to_list()]\n",
    "\n",
    "fig,ax=plt.subplots(2,1,figsize=(7,3))\n",
    "ax[0].plot(channel_std)\n",
    "ax[1].plot(trial_std)\n",
    "plt.show()"
   ],
   "id": "aa5dd1a80003b01b",
   "outputs": [
    {
     "name": "stdout",
     "output_type": "stream",
     "text": [
      "rejected_channels: [ 0  0  0 ... 63 63 63] \n",
      "\n",
      "rejected_trials: [  0  32  64  65  91 103 108 109 110 111 112 130 246 281 301]\n"
     ]
    },
    {
     "data": {
      "text/plain": "<Figure size 700x300 with 2 Axes>",
      "image/png": "[encoded data removed]"
     },
     "metadata": {},
     "output_type": "display_data"
    }
   ],
   "execution_count": 7
  },
  {
   "metadata": {
    "ExecuteTime": {
     "end_time": "2024-06-26T21:20:46.555197Z",
     "start_time": "2024-06-26T21:20:46.125061Z"
    }
   },
   "cell_type": "code",
   "source": [
    "# process the labels\n",
    "correct_syntax_labels = raw_data[10].to_numpy() # syntax labels: 1,2,3: past, present, past+s\n",
    "answered_syntax_labels = raw_data[11].to_numpy() # syntax labels: 1,2,3: past, present, past+s\n",
    "answered_words = raw_data[8].to_numpy() \n",
    "answered_words=[a[0][0][0] for a in answered_words] # answered lexical items\n",
    "answered_semantic_labels=raw_data[12].to_numpy() # answered semantic categories\n",
    "correct_syntax_labels = np.array([a[0] for a in correct_syntax_labels])\n",
    "answered_syntax_labels = np.array([a[0] for a in answered_syntax_labels])\n",
    "answered_semantic_labels=np.array([a[0] if a!=np.NaN else np.NaN for a in answered_semantic_labels])\n",
    "\n",
    "# turn the lexical items into lexemes; root of the words\n",
    "lemmatizer = WordNetLemmatizer()\n",
    "answered_lexemes = [lemmatizer.lemmatize(a, pos='v') for a in answered_words]\n",
    "answered_lexemes=np.array(['stare' if a =='star' else a for a in answered_lexemes])\n",
    "\n",
    "# process the time stamps\n",
    "phrase_on = raw_data[2].to_numpy()\n",
    "word_on = raw_data[4].to_numpy()\n",
    "voice_on = raw_data[6].to_numpy()\n",
    "voice_off = raw_data[7].to_numpy()\n",
    "\n",
    "phrase_on = np.array([a[0][0] for a in phrase_on])\n",
    "word_on = np.array([a[0][0] for a in word_on])\n",
    "voice_on = np.array([a[0][0] for a in voice_on])\n",
    "voice_off = np.array([a[0][0] for a in voice_off])\n",
    "\n",
    "# recording frequency rate\n",
    "\n",
    "print(collections.Counter(answered_lexemes))\n",
    "print(collections.Counter(answered_semantic_labels))\n",
    "print(collections.Counter(answered_syntax_labels))"
   ],
   "id": "79383edc2cc4beda",
   "outputs": [
    {
     "ename": "IndexError",
     "evalue": "too many indices for array: array is 0-dimensional, but 1 were indexed",
     "output_type": "error",
     "traceback": [
      "\u001B[0;31m---------------------------------------------------------------------------\u001B[0m",
      "\u001B[0;31mIndexError\u001B[0m                                Traceback (most recent call last)",
      "Cell \u001B[0;32mIn[8], line 22\u001B[0m\n\u001B[1;32m     19\u001B[0m voice_on \u001B[38;5;241m=\u001B[39m raw_data[\u001B[38;5;241m6\u001B[39m]\u001B[38;5;241m.\u001B[39mto_numpy()\n\u001B[1;32m     20\u001B[0m voice_off \u001B[38;5;241m=\u001B[39m raw_data[\u001B[38;5;241m7\u001B[39m]\u001B[38;5;241m.\u001B[39mto_numpy()\n\u001B[0;32m---> 22\u001B[0m phrase_on \u001B[38;5;241m=\u001B[39m np\u001B[38;5;241m.\u001B[39marray([a[\u001B[38;5;241m0\u001B[39m][\u001B[38;5;241m0\u001B[39m] \u001B[38;5;28;01mfor\u001B[39;00m a \u001B[38;5;129;01min\u001B[39;00m phrase_on])\n\u001B[1;32m     23\u001B[0m word_on \u001B[38;5;241m=\u001B[39m np\u001B[38;5;241m.\u001B[39marray([a[\u001B[38;5;241m0\u001B[39m][\u001B[38;5;241m0\u001B[39m] \u001B[38;5;28;01mfor\u001B[39;00m a \u001B[38;5;129;01min\u001B[39;00m word_on])\n\u001B[1;32m     24\u001B[0m voice_on \u001B[38;5;241m=\u001B[39m np\u001B[38;5;241m.\u001B[39marray([a[\u001B[38;5;241m0\u001B[39m][\u001B[38;5;241m0\u001B[39m] \u001B[38;5;28;01mfor\u001B[39;00m a \u001B[38;5;129;01min\u001B[39;00m voice_on])\n",
      "Cell \u001B[0;32mIn[8], line 22\u001B[0m, in \u001B[0;36m<listcomp>\u001B[0;34m(.0)\u001B[0m\n\u001B[1;32m     19\u001B[0m voice_on \u001B[38;5;241m=\u001B[39m raw_data[\u001B[38;5;241m6\u001B[39m]\u001B[38;5;241m.\u001B[39mto_numpy()\n\u001B[1;32m     20\u001B[0m voice_off \u001B[38;5;241m=\u001B[39m raw_data[\u001B[38;5;241m7\u001B[39m]\u001B[38;5;241m.\u001B[39mto_numpy()\n\u001B[0;32m---> 22\u001B[0m phrase_on \u001B[38;5;241m=\u001B[39m np\u001B[38;5;241m.\u001B[39marray([\u001B[43ma\u001B[49m\u001B[43m[\u001B[49m\u001B[38;5;241;43m0\u001B[39;49m\u001B[43m]\u001B[49m[\u001B[38;5;241m0\u001B[39m] \u001B[38;5;28;01mfor\u001B[39;00m a \u001B[38;5;129;01min\u001B[39;00m phrase_on])\n\u001B[1;32m     23\u001B[0m word_on \u001B[38;5;241m=\u001B[39m np\u001B[38;5;241m.\u001B[39marray([a[\u001B[38;5;241m0\u001B[39m][\u001B[38;5;241m0\u001B[39m] \u001B[38;5;28;01mfor\u001B[39;00m a \u001B[38;5;129;01min\u001B[39;00m word_on])\n\u001B[1;32m     24\u001B[0m voice_on \u001B[38;5;241m=\u001B[39m np\u001B[38;5;241m.\u001B[39marray([a[\u001B[38;5;241m0\u001B[39m][\u001B[38;5;241m0\u001B[39m] \u001B[38;5;28;01mfor\u001B[39;00m a \u001B[38;5;129;01min\u001B[39;00m voice_on])\n",
      "\u001B[0;31mIndexError\u001B[0m: too many indices for array: array is 0-dimensional, but 1 were indexed"
     ]
    }
   ],
   "execution_count": 8
  },
  {
   "cell_type": "code",
   "id": "d4792dc1bd913c7b",
   "metadata": {
    "ExecuteTime": {
     "end_time": "2024-06-26T21:20:51.389529Z",
     "start_time": "2024-06-26T21:20:51.246214Z"
    }
   },
   "source": [
    "# define the decoding time range and bin the data\n",
    "# aligning to the voice onset\n",
    "\n",
    "back=2 # looking back 3 seconds before onset\n",
    "forward=1 # looking forward 1 second after onset\n",
    "bin_size=0.05 # s\n",
    "adjusted_fs=1/bin_size # Hz\n",
    "processed_data_voice_on=[cca.predict(trial[:,int(voice_on[i]*fs-back*fs) : int(voice_on[i]*fs+forward*fs)].T).T if i>=n_trials_jan \n",
    "                         else trial[:,int(voice_on[i]*fs-back*fs) : int(voice_on[i]*fs+forward*fs)]for i,trial in enumerate(clean_data)]\n",
    "n_channels=processed_data_voice_on[0].shape[0]\n",
    "n_trials_total=len(processed_data_voice_on)\n",
    "binned_data_voice_on=[trial.reshape(n_channels,int(bin_size*fs),-1,order='F').mean(axis=1) for trial in processed_data_voice_on]\n",
    "binned_data_voice_on_averaged=np.mean(binned_data_voice_on,axis=0)\n",
    "n_bins=binned_data_voice_on_averaged.shape[-1]\n",
    "\n",
    "ave_voice_on=back\n",
    "\n",
    "ave_phrase_on=-(voice_on-phrase_on).mean()+ave_voice_on\n",
    "std_phrase_on=(voice_on-phrase_on).std()\n",
    "\n",
    "ave_word_on=-(voice_on-word_on).mean()+ave_voice_on\n",
    "std_word_on=(voice_on-word_on).std()\n",
    "\n",
    "ave_voice_off=-(voice_on-voice_off).mean()+ave_voice_on\n",
    "std_voice_off=(voice_off-voice_on).std()\n",
    "\n",
    "fig,ax=plt.subplots(8,8,figsize=(18,10))\n",
    "for i in range(n_channels):\n",
    "    ax[i//8,i%8].plot(np.linspace(0,(back*adjusted_fs+forward*adjusted_fs),n_bins),binned_data_voice_on_averaged[i])\n",
    "    ax[i//8,i%8].set_yticks([])\n",
    "    if i//8!=7:   \n",
    "        ax[i//8,i%8].set_xticks([])\n",
    "    else:\n",
    "        ax[i//8,i%8].set_xticks(np.linspace(0,(back+forward)*adjusted_fs,5), [f\"{i:0.1f}\" for i in np.linspace(-back,forward,5)])\n",
    "        ax[i//8,i%8].set_xlabel(\"time (s)\")\n",
    "    \n",
    "    ax[i//8,i%8].axvspan(ave_voice_off * adjusted_fs - std_voice_off * adjusted_fs, ave_voice_off * adjusted_fs + std_voice_off * adjusted_fs, color='m', alpha=0.2)\n",
    "    #ax[i//8,i%8].axvspan(ave_word_on * adjusted_fs - std_word_on * adjusted_fs, ave_word_on * adjusted_fs + std_word_on * adjusted_fs, color='g', alpha=0.2)\n",
    "    #ax[i//8,i%8].axvline(ave_word_on * adjusted_fs, color='g', linestyle='--', linewidth=2)\n",
    "    ax[i//8,i%8].axvline(ave_voice_on * adjusted_fs, color='r', linestyle='--', linewidth=2)\n",
    "    ax[i//8,i%8].axvline(ave_voice_off * adjusted_fs, color='m', linestyle='--', linewidth=2)\n",
    "plt.suptitle(\"aligned to voice onset: binned\",fontsize=20)\n",
    "plt.show()"
   ],
   "outputs": [
    {
     "ename": "NotFittedError",
     "evalue": "This CCA instance is not fitted yet. Call 'fit' with appropriate arguments before using this estimator.",
     "output_type": "error",
     "traceback": [
      "\u001B[0;31m---------------------------------------------------------------------------\u001B[0m",
      "\u001B[0;31mNotFittedError\u001B[0m                            Traceback (most recent call last)",
      "Cell \u001B[0;32mIn[9], line 8\u001B[0m\n\u001B[1;32m      6\u001B[0m bin_size\u001B[38;5;241m=\u001B[39m\u001B[38;5;241m0.05\u001B[39m \u001B[38;5;66;03m# s\u001B[39;00m\n\u001B[1;32m      7\u001B[0m adjusted_fs\u001B[38;5;241m=\u001B[39m\u001B[38;5;241m1\u001B[39m\u001B[38;5;241m/\u001B[39mbin_size \u001B[38;5;66;03m# Hz\u001B[39;00m\n\u001B[0;32m----> 8\u001B[0m processed_data_voice_on\u001B[38;5;241m=\u001B[39m[cca\u001B[38;5;241m.\u001B[39mpredict(trial[:,\u001B[38;5;28mint\u001B[39m(voice_on[i]\u001B[38;5;241m*\u001B[39mfs\u001B[38;5;241m-\u001B[39mback\u001B[38;5;241m*\u001B[39mfs) : \u001B[38;5;28mint\u001B[39m(voice_on[i]\u001B[38;5;241m*\u001B[39mfs\u001B[38;5;241m+\u001B[39mforward\u001B[38;5;241m*\u001B[39mfs)]\u001B[38;5;241m.\u001B[39mT)\u001B[38;5;241m.\u001B[39mT \u001B[38;5;28;01mif\u001B[39;00m i\u001B[38;5;241m>\u001B[39m\u001B[38;5;241m=\u001B[39mn_trials_jan \n\u001B[1;32m      9\u001B[0m                          \u001B[38;5;28;01melse\u001B[39;00m trial[:,\u001B[38;5;28mint\u001B[39m(voice_on[i]\u001B[38;5;241m*\u001B[39mfs\u001B[38;5;241m-\u001B[39mback\u001B[38;5;241m*\u001B[39mfs) : \u001B[38;5;28mint\u001B[39m(voice_on[i]\u001B[38;5;241m*\u001B[39mfs\u001B[38;5;241m+\u001B[39mforward\u001B[38;5;241m*\u001B[39mfs)]\u001B[38;5;28;01mfor\u001B[39;00m i,trial \u001B[38;5;129;01min\u001B[39;00m \u001B[38;5;28menumerate\u001B[39m(clean_data)]\n\u001B[1;32m     10\u001B[0m n_channels\u001B[38;5;241m=\u001B[39mprocessed_data_voice_on[\u001B[38;5;241m0\u001B[39m]\u001B[38;5;241m.\u001B[39mshape[\u001B[38;5;241m0\u001B[39m]\n\u001B[1;32m     11\u001B[0m n_trials_total\u001B[38;5;241m=\u001B[39m\u001B[38;5;28mlen\u001B[39m(processed_data_voice_on)\n",
      "Cell \u001B[0;32mIn[9], line 8\u001B[0m, in \u001B[0;36m<listcomp>\u001B[0;34m(.0)\u001B[0m\n\u001B[1;32m      6\u001B[0m bin_size\u001B[38;5;241m=\u001B[39m\u001B[38;5;241m0.05\u001B[39m \u001B[38;5;66;03m# s\u001B[39;00m\n\u001B[1;32m      7\u001B[0m adjusted_fs\u001B[38;5;241m=\u001B[39m\u001B[38;5;241m1\u001B[39m\u001B[38;5;241m/\u001B[39mbin_size \u001B[38;5;66;03m# Hz\u001B[39;00m\n\u001B[0;32m----> 8\u001B[0m processed_data_voice_on\u001B[38;5;241m=\u001B[39m[\u001B[43mcca\u001B[49m\u001B[38;5;241;43m.\u001B[39;49m\u001B[43mpredict\u001B[49m\u001B[43m(\u001B[49m\u001B[43mtrial\u001B[49m\u001B[43m[\u001B[49m\u001B[43m:\u001B[49m\u001B[43m,\u001B[49m\u001B[38;5;28;43mint\u001B[39;49m\u001B[43m(\u001B[49m\u001B[43mvoice_on\u001B[49m\u001B[43m[\u001B[49m\u001B[43mi\u001B[49m\u001B[43m]\u001B[49m\u001B[38;5;241;43m*\u001B[39;49m\u001B[43mfs\u001B[49m\u001B[38;5;241;43m-\u001B[39;49m\u001B[43mback\u001B[49m\u001B[38;5;241;43m*\u001B[39;49m\u001B[43mfs\u001B[49m\u001B[43m)\u001B[49m\u001B[43m \u001B[49m\u001B[43m:\u001B[49m\u001B[43m \u001B[49m\u001B[38;5;28;43mint\u001B[39;49m\u001B[43m(\u001B[49m\u001B[43mvoice_on\u001B[49m\u001B[43m[\u001B[49m\u001B[43mi\u001B[49m\u001B[43m]\u001B[49m\u001B[38;5;241;43m*\u001B[39;49m\u001B[43mfs\u001B[49m\u001B[38;5;241;43m+\u001B[39;49m\u001B[43mforward\u001B[49m\u001B[38;5;241;43m*\u001B[39;49m\u001B[43mfs\u001B[49m\u001B[43m)\u001B[49m\u001B[43m]\u001B[49m\u001B[38;5;241;43m.\u001B[39;49m\u001B[43mT\u001B[49m\u001B[43m)\u001B[49m\u001B[38;5;241m.\u001B[39mT \u001B[38;5;28;01mif\u001B[39;00m i\u001B[38;5;241m>\u001B[39m\u001B[38;5;241m=\u001B[39mn_trials_jan \n\u001B[1;32m      9\u001B[0m                          \u001B[38;5;28;01melse\u001B[39;00m trial[:,\u001B[38;5;28mint\u001B[39m(voice_on[i]\u001B[38;5;241m*\u001B[39mfs\u001B[38;5;241m-\u001B[39mback\u001B[38;5;241m*\u001B[39mfs) : \u001B[38;5;28mint\u001B[39m(voice_on[i]\u001B[38;5;241m*\u001B[39mfs\u001B[38;5;241m+\u001B[39mforward\u001B[38;5;241m*\u001B[39mfs)]\u001B[38;5;28;01mfor\u001B[39;00m i,trial \u001B[38;5;129;01min\u001B[39;00m \u001B[38;5;28menumerate\u001B[39m(clean_data)]\n\u001B[1;32m     10\u001B[0m n_channels\u001B[38;5;241m=\u001B[39mprocessed_data_voice_on[\u001B[38;5;241m0\u001B[39m]\u001B[38;5;241m.\u001B[39mshape[\u001B[38;5;241m0\u001B[39m]\n\u001B[1;32m     11\u001B[0m n_trials_total\u001B[38;5;241m=\u001B[39m\u001B[38;5;28mlen\u001B[39m(processed_data_voice_on)\n",
      "File \u001B[0;32m~/opt/miniconda3/envs/mini_rotation_josh_aarch64/lib/python3.9/site-packages/sklearn/cross_decomposition/_pls.py:466\u001B[0m, in \u001B[0;36m_PLS.predict\u001B[0;34m(self, X, copy)\u001B[0m\n\u001B[1;32m    444\u001B[0m \u001B[38;5;28;01mdef\u001B[39;00m \u001B[38;5;21mpredict\u001B[39m(\u001B[38;5;28mself\u001B[39m, X, copy\u001B[38;5;241m=\u001B[39m\u001B[38;5;28;01mTrue\u001B[39;00m):\n\u001B[1;32m    445\u001B[0m     \u001B[38;5;124;03m\"\"\"Predict targets of given samples.\u001B[39;00m\n\u001B[1;32m    446\u001B[0m \n\u001B[1;32m    447\u001B[0m \u001B[38;5;124;03m    Parameters\u001B[39;00m\n\u001B[0;32m   (...)\u001B[0m\n\u001B[1;32m    464\u001B[0m \u001B[38;5;124;03m    space.\u001B[39;00m\n\u001B[1;32m    465\u001B[0m \u001B[38;5;124;03m    \"\"\"\u001B[39;00m\n\u001B[0;32m--> 466\u001B[0m     \u001B[43mcheck_is_fitted\u001B[49m\u001B[43m(\u001B[49m\u001B[38;5;28;43mself\u001B[39;49m\u001B[43m)\u001B[49m\n\u001B[1;32m    467\u001B[0m     X \u001B[38;5;241m=\u001B[39m \u001B[38;5;28mself\u001B[39m\u001B[38;5;241m.\u001B[39m_validate_data(X, copy\u001B[38;5;241m=\u001B[39mcopy, dtype\u001B[38;5;241m=\u001B[39mFLOAT_DTYPES, reset\u001B[38;5;241m=\u001B[39m\u001B[38;5;28;01mFalse\u001B[39;00m)\n\u001B[1;32m    468\u001B[0m     \u001B[38;5;66;03m# Normalize\u001B[39;00m\n",
      "File \u001B[0;32m~/opt/miniconda3/envs/mini_rotation_josh_aarch64/lib/python3.9/site-packages/sklearn/utils/validation.py:1390\u001B[0m, in \u001B[0;36mcheck_is_fitted\u001B[0;34m(estimator, attributes, msg, all_or_any)\u001B[0m\n\u001B[1;32m   1385\u001B[0m     fitted \u001B[38;5;241m=\u001B[39m [\n\u001B[1;32m   1386\u001B[0m         v \u001B[38;5;28;01mfor\u001B[39;00m v \u001B[38;5;129;01min\u001B[39;00m \u001B[38;5;28mvars\u001B[39m(estimator) \u001B[38;5;28;01mif\u001B[39;00m v\u001B[38;5;241m.\u001B[39mendswith(\u001B[38;5;124m\"\u001B[39m\u001B[38;5;124m_\u001B[39m\u001B[38;5;124m\"\u001B[39m) \u001B[38;5;129;01mand\u001B[39;00m \u001B[38;5;129;01mnot\u001B[39;00m v\u001B[38;5;241m.\u001B[39mstartswith(\u001B[38;5;124m\"\u001B[39m\u001B[38;5;124m__\u001B[39m\u001B[38;5;124m\"\u001B[39m)\n\u001B[1;32m   1387\u001B[0m     ]\n\u001B[1;32m   1389\u001B[0m \u001B[38;5;28;01mif\u001B[39;00m \u001B[38;5;129;01mnot\u001B[39;00m fitted:\n\u001B[0;32m-> 1390\u001B[0m     \u001B[38;5;28;01mraise\u001B[39;00m NotFittedError(msg \u001B[38;5;241m%\u001B[39m {\u001B[38;5;124m\"\u001B[39m\u001B[38;5;124mname\u001B[39m\u001B[38;5;124m\"\u001B[39m: \u001B[38;5;28mtype\u001B[39m(estimator)\u001B[38;5;241m.\u001B[39m\u001B[38;5;18m__name__\u001B[39m})\n",
      "\u001B[0;31mNotFittedError\u001B[0m: This CCA instance is not fitted yet. Call 'fit' with appropriate arguments before using this estimator."
     ]
    }
   ],
   "execution_count": 9
  },
  {
   "cell_type": "markdown",
   "id": "7637b11de769333b",
   "metadata": {},
   "source": [
    "# here we do alignment between the neural signal to phoneme space/distance matrix"
   ]
  },
  {
   "cell_type": "code",
   "id": "f9a31800b088a5f9",
   "metadata": {
    "ExecuteTime": {
     "end_time": "2024-06-13T20:03:47.514349Z",
     "start_time": "2024-06-13T20:03:08.488709Z"
    }
   },
   "source": [
    "######################### phoneme \"embedding\" ########################################\n",
    "aline=D.ALINE\n",
    "phoneme_embed_ipa=aline(phones='ipa')\n",
    "answered_phonemes=[convert_to_ipa(x) for x in answered_words]\n",
    "#phoneme_embed=D.PhoneticEditDistance()\n",
    "all_dist_ipa=np.array([[phoneme_embed_ipa.sim(answered_phonemes[j],answered_phonemes[i]) for i in range(len(answered_words))] for j in range(len(answered_words))])\n",
    "\n",
    "# get the unique words for the distance matrix display\n",
    "# This is from display\n",
    "answered_words_unique=np.unique(answered_words)\n",
    "answered_phonemes_unique=[convert_to_ipa(x) for x in answered_words_unique]\n",
    "unique_dist_ipa=np.array([[phoneme_embed_ipa.sim(answered_phonemes_unique[j],answered_phonemes_unique[i]) for i in range(len(answered_words_unique))] for j in range(len(answered_words_unique))])"
   ],
   "outputs": [],
   "execution_count": 10
  },
  {
   "cell_type": "code",
   "id": "4d44f00e588e1534",
   "metadata": {
    "ExecuteTime": {
     "end_time": "2024-06-26T21:21:07.187896Z",
     "start_time": "2024-06-26T21:21:07.185864Z"
    }
   },
   "source": [
    "# fig, ax = plt.subplots(1, 1, figsize=(12,12))\n",
    "# ax.imshow(unique_dist_ipa)\n",
    "# ax.set_title(\"IPA\")\n",
    "# ax.set_xticks(list(range(len(answered_words_unique))))\n",
    "# ax.set_xticklabels(answered_words_unique,rotation=90)\n",
    "# ax.set_yticks(list(range(len(answered_words_unique))))\n",
    "# ax.set_yticklabels(answered_words_unique)\n",
    "# plt.show()"
   ],
   "outputs": [],
   "execution_count": 10
  },
  {
   "cell_type": "markdown",
   "id": "eec020dc92991674",
   "metadata": {},
   "source": [
    "# Doing phoneme similarity regression using in house nonlinear method\n",
    "The goal is to train a low D embedding of which distance matrix mimics the word-phoneme similarity matrix"
   ]
  },
  {
   "cell_type": "code",
   "id": "114f508ae582b826",
   "metadata": {
    "ExecuteTime": {
     "end_time": "2024-06-26T21:21:19.645019Z",
     "start_time": "2024-06-26T21:21:19.619595Z"
    }
   },
   "source": [
    "# prepare the data\n",
    "data_to_use=np.array(binned_data_voice_on).swapaxes(1,2)\n",
    "embedding_to_use=np.copy(all_dist_ipa) # here this embedding is a similarity matrix\n",
    "\n",
    "# Here we are trying to do some regression task. It's shown that the dataset m\n",
    "preprocess_dim=30\n",
    "n_CC=5 # low D embedding size\n",
    "### preprocesing \n",
    "preprocessor=PCA(n_components=preprocess_dim)\n",
    "# define how many bins history we want in each feature\n",
    "n_bins_per_feature=10\n",
    "\n",
    "# reformat the data: for each time bin we include n_bins_per_feature of history\n",
    "X=reformat(data_to_use,n_bins_per_feature) # data is a list\n",
    "\n",
    "#### Start decoding for every time bin ####\n",
    "n_repeat=20\n",
    "averaged_training=[]\n",
    "averaged_score=[]\n",
    "averaged_chance=[]\n",
    "\n",
    "for j in tqdm(range(n_repeat), desc='repeats', unit='rep.'):\n",
    "    score=[]\n",
    "    chance=[]\n",
    "    training_score=[]\n",
    "    for n_bin in range(len(X)):\n",
    "        # split the train and test set\n",
    "        X_, X_test, _, _,train_index,test_index =get_train_test(X[n_bin],embedding_to_use,train=0.8)\n",
    "        y_train=select_submatrix(embedding_to_use,list(train_index))\n",
    "        y_test=select_submatrix(embedding_to_use,list(test_index))\n",
    "        \n",
    "        # decrease the dimension\n",
    "        preprocessor.fit(X_)\n",
    "        X_low_D=preprocessor.transform(X_)\n",
    "        X_test_low_D=preprocessor.transform(X_test)\n",
    "\n",
    "        # normalize data by each sample\n",
    "        X_low_D=(X_low_D-np.mean(X_low_D,axis=1,keepdims=True))/np.std(X_low_D,axis=1,keepdims=True)\n",
    "        X_test_low_D=(X_test_low_D-np.mean(X_test_low_D,axis=1,keepdims=True))/np.std(X_test_low_D,axis=1,keepdims=True)\n",
    "        \n",
    "        # split the train and val set\n",
    "        X_train_low_D, X_val_low_D, _, _,train_index,val_index =get_train_test(X_low_D,y_train,train=0.8)\n",
    "        y_train_new=select_submatrix(y_train,list(train_index))\n",
    "        y_val=select_submatrix(y_train,list(val_index))\n",
    "        \n",
    "        # train the model\n",
    "        extractor=AlignPhonemeNet(n_features=X_low_D.shape[1],n_low_D=n_CC,metric='l2')  \n",
    "        extractor.fit_minibatch(X_train_low_D,y_train_new,\n",
    "                      X_val_low_D,y_val,\n",
    "                      n_epochs=800, batch_size=100, patience=0,\n",
    "                      learning_rate=0.005,lambda_l1=0.001,device='cuda')\n",
    "        tr_sc=extractor.score(X_train_low_D,y_train_new)\n",
    "        sc=extractor.score(X_test_low_D,y_test)\n",
    "        \n",
    "        # train the model with shuffled data\n",
    "        extractor=AlignPhonemeNet(n_features=X_low_D.shape[1],n_low_D=n_CC)  \n",
    "        np.random.shuffle(X_train_low_D.T)\n",
    "        np.random.shuffle(X_val_low_D.T)\n",
    "        extractor.fit_minibatch(X_train_low_D,y_train_new,\n",
    "                      X_val_low_D,y_val,\n",
    "                      n_epochs=800, batch_size=100, patience=0,\n",
    "                      learning_rate=0.005,lambda_l1=0.001,device='cuda')\n",
    "        ch=extractor.score(X_test_low_D,y_test)\n",
    "        \n",
    "        score.append(sc)\n",
    "        chance.append(ch)\n",
    "        training_score.append(tr_sc)\n",
    "    averaged_score.append(score)\n",
    "    averaged_chance.append(chance)\n",
    "    averaged_training.append(training_score)\n",
    " "
   ],
   "outputs": [
    {
     "ename": "NameError",
     "evalue": "name 'binned_data_voice_on' is not defined",
     "output_type": "error",
     "traceback": [
      "\u001B[0;31m---------------------------------------------------------------------------\u001B[0m",
      "\u001B[0;31mNameError\u001B[0m                                 Traceback (most recent call last)",
      "Cell \u001B[0;32mIn[11], line 2\u001B[0m\n\u001B[1;32m      1\u001B[0m \u001B[38;5;66;03m# prepare the data\u001B[39;00m\n\u001B[0;32m----> 2\u001B[0m data_to_use\u001B[38;5;241m=\u001B[39mnp\u001B[38;5;241m.\u001B[39marray(\u001B[43mbinned_data_voice_on\u001B[49m)\u001B[38;5;241m.\u001B[39mswapaxes(\u001B[38;5;241m1\u001B[39m,\u001B[38;5;241m2\u001B[39m)\n\u001B[1;32m      3\u001B[0m embedding_to_use\u001B[38;5;241m=\u001B[39mnp\u001B[38;5;241m.\u001B[39mcopy(all_dist_ipa) \u001B[38;5;66;03m# here this embedding is a similarity matrix\u001B[39;00m\n\u001B[1;32m      5\u001B[0m \u001B[38;5;66;03m# Here we are trying to do some regression task. It's shown that the dataset m\u001B[39;00m\n",
      "\u001B[0;31mNameError\u001B[0m: name 'binned_data_voice_on' is not defined"
     ]
    }
   ],
   "execution_count": 11
  },
  {
   "cell_type": "code",
   "id": "203eab6d2b4d5ff7",
   "metadata": {
    "ExecuteTime": {
     "end_time": "2024-06-26T21:21:22.366461Z",
     "start_time": "2024-06-26T21:21:22.358004Z"
    }
   },
   "source": [
    "alpha = 1\n",
    "#percentile_bybin = np.percentile(averaged_accuracy,alpha,axis=0)\n",
    "#p_illustration=['*' if 0.05<percentile_bybin[i] else '' for i in range(n_bins)]\n",
    "\n",
    "# percentile_bybin = np.percentile(averaged_score,alpha,axis=0)\n",
    "# p_illustration=['*' if percentile_bybin[i]>0 else '' for i in range(n_bins)]\n",
    "\n",
    "percentile_bybin = np.percentile(averaged_score,100-alpha,axis=0)\n",
    "p_illustration=['*' if percentile_bybin[i]<np.mean(averaged_chance,axis=0)[i]-0.08 else '' for i in range(n_bins)]"
   ],
   "outputs": [
    {
     "ename": "NameError",
     "evalue": "name 'averaged_score' is not defined",
     "output_type": "error",
     "traceback": [
      "\u001B[0;31m---------------------------------------------------------------------------\u001B[0m",
      "\u001B[0;31mNameError\u001B[0m                                 Traceback (most recent call last)",
      "Cell \u001B[0;32mIn[12], line 8\u001B[0m\n\u001B[1;32m      1\u001B[0m alpha \u001B[38;5;241m=\u001B[39m \u001B[38;5;241m1\u001B[39m\n\u001B[1;32m      2\u001B[0m \u001B[38;5;66;03m#percentile_bybin = np.percentile(averaged_accuracy,alpha,axis=0)\u001B[39;00m\n\u001B[1;32m      3\u001B[0m \u001B[38;5;66;03m#p_illustration=['*' if 0.05<percentile_bybin[i] else '' for i in range(n_bins)]\u001B[39;00m\n\u001B[1;32m      4\u001B[0m \n\u001B[1;32m      5\u001B[0m \u001B[38;5;66;03m# percentile_bybin = np.percentile(averaged_score,alpha,axis=0)\u001B[39;00m\n\u001B[1;32m      6\u001B[0m \u001B[38;5;66;03m# p_illustration=['*' if percentile_bybin[i]>0 else '' for i in range(n_bins)]\u001B[39;00m\n\u001B[0;32m----> 8\u001B[0m percentile_bybin \u001B[38;5;241m=\u001B[39m np\u001B[38;5;241m.\u001B[39mpercentile(\u001B[43maveraged_score\u001B[49m,\u001B[38;5;241m100\u001B[39m\u001B[38;5;241m-\u001B[39malpha,axis\u001B[38;5;241m=\u001B[39m\u001B[38;5;241m0\u001B[39m)\n\u001B[1;32m      9\u001B[0m p_illustration\u001B[38;5;241m=\u001B[39m[\u001B[38;5;124m'\u001B[39m\u001B[38;5;124m*\u001B[39m\u001B[38;5;124m'\u001B[39m \u001B[38;5;28;01mif\u001B[39;00m percentile_bybin[i]\u001B[38;5;241m<\u001B[39mnp\u001B[38;5;241m.\u001B[39mmean(averaged_chance,axis\u001B[38;5;241m=\u001B[39m\u001B[38;5;241m0\u001B[39m)[i]\u001B[38;5;241m-\u001B[39m\u001B[38;5;241m0.08\u001B[39m \u001B[38;5;28;01melse\u001B[39;00m \u001B[38;5;124m'\u001B[39m\u001B[38;5;124m'\u001B[39m \u001B[38;5;28;01mfor\u001B[39;00m i \u001B[38;5;129;01min\u001B[39;00m \u001B[38;5;28mrange\u001B[39m(n_bins)]\n",
      "\u001B[0;31mNameError\u001B[0m: name 'averaged_score' is not defined"
     ]
    }
   ],
   "execution_count": 12
  },
  {
   "cell_type": "code",
   "id": "41262a8c5ba37bd",
   "metadata": {
    "ExecuteTime": {
     "end_time": "2024-06-26T21:21:23.650258Z",
     "start_time": "2024-06-26T21:21:23.577251Z"
    }
   },
   "source": [
    "fig,ax=plt.subplots(1,1,figsize=(10,5))\n",
    "ax.plot(np.linspace(0,(back*adjusted_fs+forward*adjusted_fs),n_bins),np.mean(averaged_training,axis=0),lw=3,color='m',alpha=0.2)\n",
    "ax.plot(np.linspace(0,(back*adjusted_fs+forward*adjusted_fs),n_bins),np.mean(averaged_score,axis=0),lw=3)\n",
    "ax.plot(np.linspace(0,(back*adjusted_fs+forward*adjusted_fs),n_bins),np.mean(averaged_chance,axis=0)-0.08,lw=2,linestyle='--',color='orange')\n",
    "ax.fill_between(np.linspace(0,(back*adjusted_fs+forward*adjusted_fs),n_bins),\n",
    "                np.mean(averaged_score,axis=0)-np.std(averaged_score,axis=0),\n",
    "               np.mean(averaged_score,axis=0)+np.std(averaged_score,axis=0),alpha=0.2)\n",
    "#ax.fill_between(np.linspace(0,(back*adjusted_fs+forward*adjusted_fs),n_bins),\n",
    "#                np.mean(averaged_training,axis=0)-np.std(averaged_training,axis=0),\n",
    "#               np.mean(averaged_training,axis=0)+np.std(averaged_training,axis=0),alpha=0.2,color='m')\n",
    "#ax.axhline(0,lw=2,linestyle='--',color='orange')\n",
    "\n",
    "#ax.boxplot(averaged_accuracy_.T,positions=np.linspace(0,(back*adjusted_fs+forward*adjusted_fs),n_bins),showfliers=False)\n",
    "#ax2=ax.twinx()\n",
    "#ax2.plot(np.linspace(0,(back*adjusted_fs+forward*adjusted_fs),n_bins),binned_data_voice_on_averaged.mean(axis=0),c='grey',linestyle='--')\n",
    "ax.axvspan(ave_voice_off * adjusted_fs - std_voice_off * adjusted_fs, ave_voice_off * adjusted_fs + std_voice_off * adjusted_fs, color='m', alpha=0.2)\n",
    "# ax.axvspan(ave_word_on * adjusted_fs - std_word_on * adjusted_fs, ave_word_on * adjusted_fs + std_word_on * adjusted_fs, color='g', alpha=0.2)\n",
    "# ax.axvline(ave_word_on * adjusted_fs, color='g', linestyle='--', linewidth=2)\n",
    "ax.axvline(ave_voice_on * adjusted_fs, color='r', linestyle='--', linewidth=2)\n",
    "ax.axvline(ave_voice_off * adjusted_fs, color='m', linestyle='--', linewidth=2)\n",
    "ax.set_xticks(np.linspace(0,(back*adjusted_fs+forward*adjusted_fs),10), [f\"{i:0.1f}\" for i in np.linspace(-back,forward,10)])\n",
    "#ax.set_ylim([-2,1])\n",
    "ax.set_xlabel(\"time (s)\")\n",
    "ax.set_ylabel(\"L2 distance\")\n",
    "for label, loc in zip(p_illustration,np.linspace(0,(back*adjusted_fs+forward*adjusted_fs),n_bins)):\n",
    "    ax.text(loc, 0.15, label, ha='center', va='center')\n",
    "\n",
    "plt.show()"
   ],
   "outputs": [
    {
     "ename": "NameError",
     "evalue": "name 'n_bins' is not defined",
     "output_type": "error",
     "traceback": [
      "\u001B[0;31m---------------------------------------------------------------------------\u001B[0m",
      "\u001B[0;31mNameError\u001B[0m                                 Traceback (most recent call last)",
      "Cell \u001B[0;32mIn[13], line 2\u001B[0m\n\u001B[1;32m      1\u001B[0m fig,ax\u001B[38;5;241m=\u001B[39mplt\u001B[38;5;241m.\u001B[39msubplots(\u001B[38;5;241m1\u001B[39m,\u001B[38;5;241m1\u001B[39m,figsize\u001B[38;5;241m=\u001B[39m(\u001B[38;5;241m10\u001B[39m,\u001B[38;5;241m5\u001B[39m))\n\u001B[0;32m----> 2\u001B[0m ax\u001B[38;5;241m.\u001B[39mplot(np\u001B[38;5;241m.\u001B[39mlinspace(\u001B[38;5;241m0\u001B[39m,(back\u001B[38;5;241m*\u001B[39madjusted_fs\u001B[38;5;241m+\u001B[39mforward\u001B[38;5;241m*\u001B[39madjusted_fs),\u001B[43mn_bins\u001B[49m),np\u001B[38;5;241m.\u001B[39mmean(averaged_training,axis\u001B[38;5;241m=\u001B[39m\u001B[38;5;241m0\u001B[39m),lw\u001B[38;5;241m=\u001B[39m\u001B[38;5;241m3\u001B[39m,color\u001B[38;5;241m=\u001B[39m\u001B[38;5;124m'\u001B[39m\u001B[38;5;124mm\u001B[39m\u001B[38;5;124m'\u001B[39m,alpha\u001B[38;5;241m=\u001B[39m\u001B[38;5;241m0.2\u001B[39m)\n\u001B[1;32m      3\u001B[0m ax\u001B[38;5;241m.\u001B[39mplot(np\u001B[38;5;241m.\u001B[39mlinspace(\u001B[38;5;241m0\u001B[39m,(back\u001B[38;5;241m*\u001B[39madjusted_fs\u001B[38;5;241m+\u001B[39mforward\u001B[38;5;241m*\u001B[39madjusted_fs),n_bins),np\u001B[38;5;241m.\u001B[39mmean(averaged_score,axis\u001B[38;5;241m=\u001B[39m\u001B[38;5;241m0\u001B[39m),lw\u001B[38;5;241m=\u001B[39m\u001B[38;5;241m3\u001B[39m)\n\u001B[1;32m      4\u001B[0m ax\u001B[38;5;241m.\u001B[39mplot(np\u001B[38;5;241m.\u001B[39mlinspace(\u001B[38;5;241m0\u001B[39m,(back\u001B[38;5;241m*\u001B[39madjusted_fs\u001B[38;5;241m+\u001B[39mforward\u001B[38;5;241m*\u001B[39madjusted_fs),n_bins),np\u001B[38;5;241m.\u001B[39mmean(averaged_chance,axis\u001B[38;5;241m=\u001B[39m\u001B[38;5;241m0\u001B[39m)\u001B[38;5;241m-\u001B[39m\u001B[38;5;241m0.08\u001B[39m,lw\u001B[38;5;241m=\u001B[39m\u001B[38;5;241m2\u001B[39m,linestyle\u001B[38;5;241m=\u001B[39m\u001B[38;5;124m'\u001B[39m\u001B[38;5;124m--\u001B[39m\u001B[38;5;124m'\u001B[39m,color\u001B[38;5;241m=\u001B[39m\u001B[38;5;124m'\u001B[39m\u001B[38;5;124morange\u001B[39m\u001B[38;5;124m'\u001B[39m)\n",
      "\u001B[0;31mNameError\u001B[0m: name 'n_bins' is not defined"
     ]
    },
    {
     "data": {
      "text/plain": "<Figure size 1000x500 with 1 Axes>",
      "image/png": "[encoded data removed]"
     },
     "metadata": {},
     "output_type": "display_data"
    }
   ],
   "execution_count": 13
  },
  {
   "cell_type": "markdown",
   "id": "c4c1d3c65b288c4c",
   "metadata": {},
   "source": [
    "   ### Here we would like to look at the bin where there is the most whole-word phoneme information"
   ]
  },
  {
   "cell_type": "code",
   "id": "6c2b01a2d745650c",
   "metadata": {
    "ExecuteTime": {
     "end_time": "2024-06-26T21:21:26.656521Z",
     "start_time": "2024-06-26T21:21:26.648998Z"
    }
   },
   "source": [
    "best_bin=np.argmin(np.mean(averaged_score,axis=0))\n",
    "best_bin"
   ],
   "outputs": [
    {
     "ename": "NameError",
     "evalue": "name 'averaged_score' is not defined",
     "output_type": "error",
     "traceback": [
      "\u001B[0;31m---------------------------------------------------------------------------\u001B[0m",
      "\u001B[0;31mNameError\u001B[0m                                 Traceback (most recent call last)",
      "Cell \u001B[0;32mIn[14], line 1\u001B[0m\n\u001B[0;32m----> 1\u001B[0m best_bin\u001B[38;5;241m=\u001B[39mnp\u001B[38;5;241m.\u001B[39margmin(np\u001B[38;5;241m.\u001B[39mmean(\u001B[43maveraged_score\u001B[49m,axis\u001B[38;5;241m=\u001B[39m\u001B[38;5;241m0\u001B[39m))\n\u001B[1;32m      2\u001B[0m best_bin\n",
      "\u001B[0;31mNameError\u001B[0m: name 'averaged_score' is not defined"
     ]
    }
   ],
   "execution_count": 14
  },
  {
   "cell_type": "code",
   "id": "74badff54a099c43",
   "metadata": {
    "ExecuteTime": {
     "end_time": "2024-06-26T21:21:27.886041Z",
     "start_time": "2024-06-26T21:21:27.867190Z"
    }
   },
   "source": [
    "data_to_use=np.array(binned_data_voice_on).swapaxes(1,2)\n",
    "embedding_to_use= np.copy(all_dist_ipa)"
   ],
   "outputs": [
    {
     "ename": "NameError",
     "evalue": "name 'binned_data_voice_on' is not defined",
     "output_type": "error",
     "traceback": [
      "\u001B[0;31m---------------------------------------------------------------------------\u001B[0m",
      "\u001B[0;31mNameError\u001B[0m                                 Traceback (most recent call last)",
      "Cell \u001B[0;32mIn[15], line 1\u001B[0m\n\u001B[0;32m----> 1\u001B[0m data_to_use\u001B[38;5;241m=\u001B[39mnp\u001B[38;5;241m.\u001B[39marray(\u001B[43mbinned_data_voice_on\u001B[49m)\u001B[38;5;241m.\u001B[39mswapaxes(\u001B[38;5;241m1\u001B[39m,\u001B[38;5;241m2\u001B[39m)\n\u001B[1;32m      2\u001B[0m embedding_to_use\u001B[38;5;241m=\u001B[39m np\u001B[38;5;241m.\u001B[39mcopy(all_dist_ipa)\n",
      "\u001B[0;31mNameError\u001B[0m: name 'binned_data_voice_on' is not defined"
     ]
    }
   ],
   "execution_count": 15
  },
  {
   "cell_type": "markdown",
   "id": "d439584b8bcd861f",
   "metadata": {},
   "source": [
    "### Here we calculate a projection matrix only for the \"best bin\""
   ]
  },
  {
   "cell_type": "code",
   "id": "4162065872c73ac0",
   "metadata": {
    "ExecuteTime": {
     "end_time": "2024-06-26T21:21:29.390365Z",
     "start_time": "2024-06-26T21:21:29.375014Z"
    }
   },
   "source": [
    "n_bins_best_performance=36 # derived from previous analysis\n",
    "n_low=5\n",
    "n_bins_per_feature=5\n",
    "preprocess_dim=40\n",
    "# run a model using that bin\n",
    "X=reformat(data_to_use,n_bins_per_feature) # data is a list\n",
    "X_best=X[n_bins_best_performance]\n",
    "\n",
    "X_, X_test, _, _,train_index,test_index =get_train_test(X_best,embedding_to_use,train=0.9)\n",
    "y_train=select_submatrix(embedding_to_use,list(train_index))\n",
    "y_test=select_submatrix(embedding_to_use,list(test_index))\n",
    "\n",
    "preprocessor=PCA(n_components=preprocess_dim)\n",
    "preprocessor.fit(X_)\n",
    "X_low_D=preprocessor.transform(X_)       \n",
    "X_test_low_D=preprocessor.transform(X_test)\n",
    "\n",
    "# normalize data\n",
    "X_low_D=(X_low_D-np.mean(X_low_D,axis=1,keepdims=True))/np.std(X_low_D,axis=1,keepdims=True)\n",
    "X_test_low_D=(X_test_low_D-np.mean(X_test_low_D,axis=1,keepdims=True))/np.std(X_test_low_D,axis=1,keepdims=True)\n",
    "\n",
    "# split the train and val set\n",
    "X_train_low_D, X_val_low_D, _, _,train_index_,val_index =get_train_test(X_low_D,y_train,train=0.8)\n",
    "y_train_new=select_submatrix(y_train,list(train_index_))\n",
    "y_val=select_submatrix(y_train,list(val_index))\n",
    "\n",
    "extractor=AlignPhonemeNet(n_features=X_train_low_D.shape[1],\n",
    "                       n_low_D=n_low)\n",
    "extractor.fit_minibatch(X_train_low_D,y_train_new,X_val_low_D,y_val,\n",
    "                      n_epochs=800, batch_size=20, patience=100,\n",
    "                      learning_rate=0.002,lambda_l1=0.001,device='cuda',sim_metric='l2')\n",
    "# extractor.fit(X_train_low_D,y_train_new,X_val_low_D,y_val,\n",
    "#                       num_iterations =800,\n",
    "#                       learning_rate=0.005,lambda_l1=0.001,device='cuda')\n",
    "\n",
    "X_embed_test=extractor.predict(X_test_low_D)\n",
    "X_embed_train=extractor.predict(X_train_low_D)\n",
    "score=extractor.score(X_test_low_D,y_test,device='cuda',sim_metric='l2')\n",
    "print(score)"
   ],
   "outputs": [
    {
     "ename": "NameError",
     "evalue": "name 'data_to_use' is not defined",
     "output_type": "error",
     "traceback": [
      "\u001B[0;31m---------------------------------------------------------------------------\u001B[0m",
      "\u001B[0;31mNameError\u001B[0m                                 Traceback (most recent call last)",
      "Cell \u001B[0;32mIn[16], line 6\u001B[0m\n\u001B[1;32m      4\u001B[0m preprocess_dim\u001B[38;5;241m=\u001B[39m\u001B[38;5;241m40\u001B[39m\n\u001B[1;32m      5\u001B[0m \u001B[38;5;66;03m# run a model using that bin\u001B[39;00m\n\u001B[0;32m----> 6\u001B[0m X\u001B[38;5;241m=\u001B[39mreformat(\u001B[43mdata_to_use\u001B[49m,n_bins_per_feature) \u001B[38;5;66;03m# data is a list\u001B[39;00m\n\u001B[1;32m      7\u001B[0m X_best\u001B[38;5;241m=\u001B[39mX[n_bins_best_performance]\n\u001B[1;32m      9\u001B[0m X_, X_test, _, _,train_index,test_index \u001B[38;5;241m=\u001B[39mget_train_test(X_best,embedding_to_use,train\u001B[38;5;241m=\u001B[39m\u001B[38;5;241m0.9\u001B[39m)\n",
      "\u001B[0;31mNameError\u001B[0m: name 'data_to_use' is not defined"
     ]
    }
   ],
   "execution_count": 16
  },
  {
   "cell_type": "code",
   "id": "7827bcfbb1374665",
   "metadata": {
    "ExecuteTime": {
     "end_time": "2024-06-26T21:21:30.606457Z",
     "start_time": "2024-06-26T21:21:30.577345Z"
    }
   },
   "source": [
    "plt.figure()\n",
    "plt.plot(extractor.training_loss)\n",
    "plt.plot(extractor.validation_loss)\n",
    "plt.axvline(np.argmin(extractor.validation_loss))\n",
    "plt.show()"
   ],
   "outputs": [
    {
     "ename": "NameError",
     "evalue": "name 'extractor' is not defined",
     "output_type": "error",
     "traceback": [
      "\u001B[0;31m---------------------------------------------------------------------------\u001B[0m",
      "\u001B[0;31mNameError\u001B[0m                                 Traceback (most recent call last)",
      "Cell \u001B[0;32mIn[17], line 2\u001B[0m\n\u001B[1;32m      1\u001B[0m plt\u001B[38;5;241m.\u001B[39mfigure()\n\u001B[0;32m----> 2\u001B[0m plt\u001B[38;5;241m.\u001B[39mplot(\u001B[43mextractor\u001B[49m\u001B[38;5;241m.\u001B[39mtraining_loss)\n\u001B[1;32m      3\u001B[0m plt\u001B[38;5;241m.\u001B[39mplot(extractor\u001B[38;5;241m.\u001B[39mvalidation_loss)\n\u001B[1;32m      4\u001B[0m plt\u001B[38;5;241m.\u001B[39maxvline(np\u001B[38;5;241m.\u001B[39margmin(extractor\u001B[38;5;241m.\u001B[39mvalidation_loss))\n",
      "\u001B[0;31mNameError\u001B[0m: name 'extractor' is not defined"
     ]
    },
    {
     "data": {
      "text/plain": "<Figure size 640x480 with 0 Axes>"
     },
     "metadata": {},
     "output_type": "display_data"
    }
   ],
   "execution_count": 17
  },
  {
   "metadata": {
    "ExecuteTime": {
     "end_time": "2024-06-26T21:21:31.892742Z",
     "start_time": "2024-06-26T21:21:31.889865Z"
    }
   },
   "cell_type": "code",
   "source": [
    "plt.close()"
   ],
   "id": "d98199732119de2a",
   "outputs": [],
   "execution_count": 18
  },
  {
   "cell_type": "code",
   "id": "91ab52ce845c19c4",
   "metadata": {
    "ExecuteTime": {
     "end_time": "2024-06-26T21:21:33.085390Z",
     "start_time": "2024-06-26T21:21:33.068490Z"
    }
   },
   "source": [
    "# linear_x=extractor.linear_X.weight.cpu().detach().numpy()\n",
    "X_embed_train=X_embed_train.detach().cpu().numpy()\n",
    "X_embed_test=X_embed_test.detach().cpu().numpy()\n",
    "# fig,ax=plt.subplots(1,1,figsize=(10,5))\n",
    "# ax.imshow(linear_x)\n",
    "# plt.show()"
   ],
   "outputs": [
    {
     "ename": "NameError",
     "evalue": "name 'X_embed_train' is not defined",
     "output_type": "error",
     "traceback": [
      "\u001B[0;31m---------------------------------------------------------------------------\u001B[0m",
      "\u001B[0;31mNameError\u001B[0m                                 Traceback (most recent call last)",
      "Cell \u001B[0;32mIn[19], line 2\u001B[0m\n\u001B[1;32m      1\u001B[0m \u001B[38;5;66;03m# linear_x=extractor.linear_X.weight.cpu().detach().numpy()\u001B[39;00m\n\u001B[0;32m----> 2\u001B[0m X_embed_train\u001B[38;5;241m=\u001B[39m\u001B[43mX_embed_train\u001B[49m\u001B[38;5;241m.\u001B[39mdetach()\u001B[38;5;241m.\u001B[39mcpu()\u001B[38;5;241m.\u001B[39mnumpy()\n\u001B[1;32m      3\u001B[0m X_embed_test\u001B[38;5;241m=\u001B[39mX_embed_test\u001B[38;5;241m.\u001B[39mdetach()\u001B[38;5;241m.\u001B[39mcpu()\u001B[38;5;241m.\u001B[39mnumpy()\n",
      "\u001B[0;31mNameError\u001B[0m: name 'X_embed_train' is not defined"
     ]
    }
   ],
   "execution_count": 19
  },
  {
   "cell_type": "code",
   "id": "222591d9cd81fa55",
   "metadata": {
    "ExecuteTime": {
     "end_time": "2024-06-26T21:21:34.225436Z",
     "start_time": "2024-06-26T21:21:34.213544Z"
    }
   },
   "source": [
    "from sklearn.metrics.pairwise import cosine_similarity\n",
    "\n",
    "train_cos=cosine_similarity(X_embed_train,X_embed_train)\n",
    "test_cos=cosine_similarity(X_embed_test,X_embed_test)\n",
    "train_cov=np.cov(X_embed_train,X_embed_train)/np.var(X_embed_train)\n",
    "\n",
    "fig,ax=plt.subplots(2,2,figsize=(10,10))\n",
    "im=ax[0][0].imshow(train_cos)\n",
    "im.set_clim(0,1)\n",
    "plt.colorbar(im,shrink=0.3)\n",
    "im=ax[1][0].imshow(test_cos)\n",
    "ax[1][0].set_title(\"Neural Space\")\n",
    "im.set_clim(0,1)\n",
    "plt.colorbar(im,shrink=0.3)\n",
    "im=ax[0][1].imshow(y_train)\n",
    "im.set_clim(0,1)\n",
    "\n",
    "plt.colorbar(im,shrink=0.3)\n",
    "im=ax[1][1].imshow(y_test)\n",
    "im.set_clim(0,1)\n",
    "plt.colorbar(im,shrink=0.3)\n",
    "ax[1][1].set_title(\"Linguistic Space\")\n",
    "plt.show()"
   ],
   "outputs": [
    {
     "ename": "NameError",
     "evalue": "name 'X_embed_train' is not defined",
     "output_type": "error",
     "traceback": [
      "\u001B[0;31m---------------------------------------------------------------------------\u001B[0m",
      "\u001B[0;31mNameError\u001B[0m                                 Traceback (most recent call last)",
      "Cell \u001B[0;32mIn[20], line 3\u001B[0m\n\u001B[1;32m      1\u001B[0m \u001B[38;5;28;01mfrom\u001B[39;00m \u001B[38;5;21;01msklearn\u001B[39;00m\u001B[38;5;21;01m.\u001B[39;00m\u001B[38;5;21;01mmetrics\u001B[39;00m\u001B[38;5;21;01m.\u001B[39;00m\u001B[38;5;21;01mpairwise\u001B[39;00m \u001B[38;5;28;01mimport\u001B[39;00m cosine_similarity\n\u001B[0;32m----> 3\u001B[0m train_cos\u001B[38;5;241m=\u001B[39mcosine_similarity(\u001B[43mX_embed_train\u001B[49m,X_embed_train)\n\u001B[1;32m      4\u001B[0m test_cos\u001B[38;5;241m=\u001B[39mcosine_similarity(X_embed_test,X_embed_test)\n\u001B[1;32m      5\u001B[0m train_cov\u001B[38;5;241m=\u001B[39mnp\u001B[38;5;241m.\u001B[39mcov(X_embed_train,X_embed_train)\u001B[38;5;241m/\u001B[39mnp\u001B[38;5;241m.\u001B[39mvar(X_embed_train)\n",
      "\u001B[0;31mNameError\u001B[0m: name 'X_embed_train' is not defined"
     ]
    }
   ],
   "execution_count": 20
  },
  {
   "cell_type": "code",
   "id": "70cc385fc71513e0",
   "metadata": {
    "ExecuteTime": {
     "end_time": "2024-06-26T21:21:35.566654Z",
     "start_time": "2024-06-26T21:21:35.556763Z"
    }
   },
   "source": [
    "#train_illustration=PCA(n_components=2).fit_transform(np.concatenate([X_embed_train]))\n",
    "#test_illustration=PCA(n_components=2).fit_transform(np.concatenate([X_embed_test]))\n",
    "\n",
    "#train_illustration=TSNE(n_components=2).fit_transform(X_embed_train)\n",
    "test_illustration=TSNE(n_components=2,perplexity=10).fit_transform(X_embed_test)\n",
    "\n",
    "#X_train_illustration= train_illustration\n",
    "X_test_illustration= test_illustration\n",
    "\n",
    "fig,ax=plt.subplots(1,1,figsize=(10,10))\n",
    "# for i,w in enumerate(X_train_illustration):\n",
    "#     ax[0].scatter(w[1],w[0],color='k',s=1)\n",
    "#     ax[0].text(w[1],w[0],answered_words[train_index[i]],fontsize=12)\n",
    "    \n",
    "for i,w in enumerate(X_test_illustration):\n",
    "    ax.scatter(w[1],w[0],color='k',s=1)\n",
    "    ax.text(w[1],w[0],answered_words[test_index[i]],fontsize=12)\n",
    "\n",
    "plt.show()"
   ],
   "outputs": [
    {
     "ename": "NameError",
     "evalue": "name 'X_embed_test' is not defined",
     "output_type": "error",
     "traceback": [
      "\u001B[0;31m---------------------------------------------------------------------------\u001B[0m",
      "\u001B[0;31mNameError\u001B[0m                                 Traceback (most recent call last)",
      "Cell \u001B[0;32mIn[21], line 5\u001B[0m\n\u001B[1;32m      1\u001B[0m \u001B[38;5;66;03m#train_illustration=PCA(n_components=2).fit_transform(np.concatenate([X_embed_train]))\u001B[39;00m\n\u001B[1;32m      2\u001B[0m \u001B[38;5;66;03m#test_illustration=PCA(n_components=2).fit_transform(np.concatenate([X_embed_test]))\u001B[39;00m\n\u001B[1;32m      3\u001B[0m \n\u001B[1;32m      4\u001B[0m \u001B[38;5;66;03m#train_illustration=TSNE(n_components=2).fit_transform(X_embed_train)\u001B[39;00m\n\u001B[0;32m----> 5\u001B[0m test_illustration\u001B[38;5;241m=\u001B[39mTSNE(n_components\u001B[38;5;241m=\u001B[39m\u001B[38;5;241m2\u001B[39m,perplexity\u001B[38;5;241m=\u001B[39m\u001B[38;5;241m10\u001B[39m)\u001B[38;5;241m.\u001B[39mfit_transform(\u001B[43mX_embed_test\u001B[49m)\n\u001B[1;32m      7\u001B[0m \u001B[38;5;66;03m#X_train_illustration= train_illustration\u001B[39;00m\n\u001B[1;32m      8\u001B[0m X_test_illustration\u001B[38;5;241m=\u001B[39m test_illustration\n",
      "\u001B[0;31mNameError\u001B[0m: name 'X_embed_test' is not defined"
     ]
    }
   ],
   "execution_count": 21
  },
  {
   "cell_type": "markdown",
   "id": "f2d22c7a295f4ad0",
   "metadata": {},
   "source": [
    "### Use the trained weight at this time bin to project other data to this space"
   ]
  },
  {
   "cell_type": "code",
   "id": "6464ee8889b9356",
   "metadata": {
    "ExecuteTime": {
     "end_time": "2024-06-26T21:21:36.857872Z",
     "start_time": "2024-06-26T21:21:36.809818Z"
    }
   },
   "source": [
    "from matplotlib.animation import FuncAnimation\n",
    "import matplotlib.colors as mcolors\n",
    "import matplotlib.cm as cm\n",
    "from scipy.ndimage import gaussian_filter1d\n",
    "\n",
    "all_low_D_x_bin=[]\n",
    "preprocessor=PCA(n_components=preprocess_dim)\n",
    "for x_bin in X[:40]:\n",
    "    if x_bin.shape[-1]==X[-1].shape[-1]:\n",
    "        preprocessor.fit(x_bin[train_index])     \n",
    "        X_test_low_D=preprocessor.transform(x_bin[test_index])\n",
    "        \n",
    "        # normalize data\n",
    "        X_test_low_D=(X_test_low_D-np.mean(X_test_low_D,axis=1,keepdims=True))/np.std(X_test_low_D,axis=1,keepdims=True)\n",
    "\n",
    "        low_D_x_bin=extractor.predict(X_test_low_D,device='cuda') \n",
    "        all_low_D_x_bin.append(low_D_x_bin.detach().cpu().numpy())\n",
    "all_low_D_x_bin=np.concatenate(all_low_D_x_bin)\n",
    "\n",
    "illustration=PCA(n_components=3).fit_transform(all_low_D_x_bin).reshape(-1,len(test_index),3)\n",
    "# smooth the trajectory a little bit to see it makes more sense\n",
    "smoothed_illustration=gaussian_filter1d(illustration,sigma=10, axis=0)\n"
   ],
   "outputs": [
    {
     "ename": "NameError",
     "evalue": "name 'X' is not defined",
     "output_type": "error",
     "traceback": [
      "\u001B[0;31m---------------------------------------------------------------------------\u001B[0m",
      "\u001B[0;31mNameError\u001B[0m                                 Traceback (most recent call last)",
      "Cell \u001B[0;32mIn[22], line 8\u001B[0m\n\u001B[1;32m      6\u001B[0m all_low_D_x_bin\u001B[38;5;241m=\u001B[39m[]\n\u001B[1;32m      7\u001B[0m preprocessor\u001B[38;5;241m=\u001B[39mPCA(n_components\u001B[38;5;241m=\u001B[39mpreprocess_dim)\n\u001B[0;32m----> 8\u001B[0m \u001B[38;5;28;01mfor\u001B[39;00m x_bin \u001B[38;5;129;01min\u001B[39;00m \u001B[43mX\u001B[49m[:\u001B[38;5;241m40\u001B[39m]:\n\u001B[1;32m      9\u001B[0m     \u001B[38;5;28;01mif\u001B[39;00m x_bin\u001B[38;5;241m.\u001B[39mshape[\u001B[38;5;241m-\u001B[39m\u001B[38;5;241m1\u001B[39m]\u001B[38;5;241m==\u001B[39mX[\u001B[38;5;241m-\u001B[39m\u001B[38;5;241m1\u001B[39m]\u001B[38;5;241m.\u001B[39mshape[\u001B[38;5;241m-\u001B[39m\u001B[38;5;241m1\u001B[39m]:\n\u001B[1;32m     10\u001B[0m         preprocessor\u001B[38;5;241m.\u001B[39mfit(x_bin[train_index])     \n",
      "\u001B[0;31mNameError\u001B[0m: name 'X' is not defined"
     ]
    }
   ],
   "execution_count": 22
  },
  {
   "cell_type": "code",
   "id": "953b7646d85013c3",
   "metadata": {
    "ExecuteTime": {
     "end_time": "2024-06-26T21:21:38.068761Z",
     "start_time": "2024-06-26T21:21:38.044184Z"
    }
   },
   "source": [
    "%matplotlib notebook\n",
    "picked_words=['date','dated','dates','bake','baked','bakes','look','looks','looked','rub','rubs','rubbed','talk','talks','talked']\n",
    "picked_color=['r','r','r','b','b','b','m','m','m','c','c','c']\n",
    "fig = plt.figure(figsize=(10,10))\n",
    "\n",
    "ax = fig.add_subplot(1,1,1, projection='3d')\n",
    "# scatter=ax.scatter(illustration[0,:,0],illustration[0,:,1],color='k',s=1)\n",
    "# text_object=[]\n",
    "# for i,w in enumerate(illustration[0]):   \n",
    "#     text_object.append(ax.text(w[1],w[0],answered_words[test_index[i]],fontsize=10))\n",
    "# # ax.set_xlim(-3,2)\n",
    "# # ax.set_ylim(-1,2)\n",
    "# def update(frame):\n",
    "#     scatter.set_offsets(illustration[frame])\n",
    "#     for i, text in enumerate(text_object):\n",
    "#         text.set_position([illustration[frame,i,0],illustration[frame,i,1]])\n",
    "#         text.set_text(answered_words[test_index[i]])\n",
    "#         text.set_fontsize(10)\n",
    "#     return scatter,*text_object\n",
    "# plt.rcParams['animation.ffmpeg_path'] = 'C:\\\\ffmpeg\\\\bin\\\\ffmpeg.exe'\n",
    "# ani=FuncAnimation(fig,update,frames=len(illustration),blit=True)\n",
    "# ani.save('scatter_text_animation.mp4', writer='ffmpeg', fps=1)\n",
    "\n",
    "# cmap = cm.get_cmap('Reds', len(illustration))\n",
    "# for frame in range(len(illustration)):\n",
    "#     ax.scatter(smoothed_illustration[frame,:,0],smoothed_illustration[frame,:,1],color=cmap(frame),s=1)\n",
    "\n",
    "# for word_id in range(len(test_index)):\n",
    "#     if answered_words[test_index[word_id]] in picked_words:\n",
    "#         if lemmatizer.lemmatize(answered_words[test_index[word_id]],pos='v')=='date':\n",
    "#             ax.plot(smoothed_illustration[:,word_id,0],smoothed_illustration[:,word_id,1],smoothed_illustration[:,word_id,2],alpha=0.6,color='r')\n",
    "#         if lemmatizer.lemmatize(answered_words[test_index[word_id]],pos='v')=='bake':\n",
    "#             ax.plot(smoothed_illustration[:,word_id,0],smoothed_illustration[:,word_id,1],smoothed_illustration[:,word_id,2],alpha=0.6,color='b')\n",
    "#         if lemmatizer.lemmatize(answered_words[test_index[word_id]],pos='v')=='look':\n",
    "#             ax.plot(smoothed_illustration[:,word_id,0],smoothed_illustration[:,word_id,1],smoothed_illustration[:,word_id,2],alpha=0.6,color='m')\n",
    "#         if lemmatizer.lemmatize(answered_words[test_index[word_id]],pos='v')=='boot':\n",
    "#             ax.plot(smoothed_illustration[:,word_id,0],smoothed_illustration[:,word_id,1],smoothed_illustration[:,word_id,2],alpha=0.6,color='c')\n",
    "\n",
    "for i,w in enumerate(smoothed_illustration[-1,:,:]):   \n",
    "    if answered_words[test_index[i]] in picked_words:\n",
    "        ax.text(w[0],w[1],w[2],answered_words[test_index[i]],fontsize=15)\n",
    "        ax.scatter(w[0],w[1],w[2],s=3,color='k')\n",
    "\n"
   ],
   "outputs": [
    {
     "data": {
      "text/plain": "<IPython.core.display.Javascript object>",
      "application/javascript": "/* Put everything inside the global mpl namespace */\n/* global mpl */\nwindow.mpl = {};\n\nmpl.get_websocket_type = function () {\n    if (typeof WebSocket !== 'undefined') {\n        return WebSocket;\n    } else if (typeof MozWebSocket !== 'undefined') {\n        return MozWebSocket;\n    } else {\n        alert(\n            'Your browser does not have WebSocket support. ' +\n                'Please try Chrome, Safari or Firefox ≥ 6. ' +\n                'Firefox 4 and 5 are also supported but you ' +\n                'have to enable WebSockets in about:config.'\n        );\n    }\n};\n\nmpl.figure = function (figure_id, websocket, ondownload, parent_element) {\n    this.id = figure_id;\n\n    this.ws = websocket;\n\n    this.supports_binary = this.ws.binaryType !== undefined;\n\n    if (!this.supports_binary) {\n        var warnings = document.getElementById('mpl-warnings');\n        if (warnings) {\n            warnings.style.display = 'block';\n            warnings.textContent =\n                'This browser does not support binary websocket messages. ' +\n                'Performance may be slow.';\n        }\n    }\n\n    this.imageObj = new Image();\n\n    this.context = undefined;\n    this.message = undefined;\n    this.canvas = undefined;\n    this.rubberband_canvas = undefined;\n    this.rubberband_context = undefined;\n    this.format_dropdown = undefined;\n\n    this.image_mode = 'full';\n\n    this.root = document.createElement('div');\n    this.root.setAttribute('style', 'display: inline-block');\n    this._root_extra_style(this.root);\n\n    parent_element.appendChild(this.root);\n\n    this._init_header(this);\n    this._init_canvas(this);\n    this._init_toolbar(this);\n\n    var fig = this;\n\n    this.waiting = false;\n\n    this.ws.onopen = function () {\n        fig.send_message('supports_binary', { value: fig.supports_binary });\n        fig.send_message('send_image_mode', {});\n        if (fig.ratio !== 1) {\n            fig.send_message('set_device_pixel_ratio', {\n                device_pixel_ratio: fig.ratio,\n            });\n        }\n        fig.send_message('refresh', {});\n    };\n\n    this.imageObj.onload = function () {\n        if (fig.image_mode === 'full') {\n            // Full images could contain transparency (where diff images\n            // almost always do), so we need to clear the canvas so that\n            // there is no ghosting.\n            fig.context.clearRect(0, 0, fig.canvas.width, fig.canvas.height);\n        }\n        fig.context.drawImage(fig.imageObj, 0, 0);\n    };\n\n    this.imageObj.onunload = function () {\n        fig.ws.close();\n    };\n\n    this.ws.onmessage = this._make_on_message_function(this);\n\n    this.ondownload = ondownload;\n};\n\nmpl.figure.prototype._init_header = function () {\n    var titlebar = document.createElement('div');\n    titlebar.classList =\n        'ui-dialog-titlebar ui-widget-header ui-corner-all ui-helper-clearfix';\n    var titletext = document.createElement('div');\n    titletext.classList = 'ui-dialog-title';\n    titletext.setAttribute(\n        'style',\n        'width: 100%; text-align: center; padding: 3px;'\n    );\n    titlebar.appendChild(titletext);\n    this.root.appendChild(titlebar);\n    this.header = titletext;\n};\n\nmpl.figure.prototype._canvas_extra_style = function (_canvas_div) {};\n\nmpl.figure.prototype._root_extra_style = function (_canvas_div) {};\n\nmpl.figure.prototype._init_canvas = function () {\n    var fig = this;\n\n    var canvas_div = (this.canvas_div = document.createElement('div'));\n    canvas_div.setAttribute('tabindex', '0');\n    canvas_div.setAttribute(\n        'style',\n        'border: 1px solid #ddd;' +\n            'box-sizing: content-box;' +\n            'clear: both;' +\n            'min-height: 1px;' +\n            'min-width: 1px;' +\n            'outline: 0;' +\n            'overflow: hidden;' +\n            'position: relative;' +\n            'resize: both;' +\n            'z-index: 2;'\n    );\n\n    function on_keyboard_event_closure(name) {\n        return function (event) {\n            return fig.key_event(event, name);\n        };\n    }\n\n    canvas_div.addEventListener(\n        'keydown',\n        on_keyboard_event_closure('key_press')\n    );\n    canvas_div.addEventListener(\n        'keyup',\n        on_keyboard_event_closure('key_release')\n    );\n\n    this._canvas_extra_style(canvas_div);\n    this.root.appendChild(canvas_div);\n\n    var canvas = (this.canvas = document.createElement('canvas'));\n    canvas.classList.add('mpl-canvas');\n    canvas.setAttribute(\n        'style',\n        'box-sizing: content-box;' +\n            'pointer-events: none;' +\n            'position: relative;' +\n            'z-index: 0;'\n    );\n\n    this.context = canvas.getContext('2d');\n\n    var backingStore =\n        this.context.backingStorePixelRatio ||\n        this.context.webkitBackingStorePixelRatio ||\n        this.context.mozBackingStorePixelRatio ||\n        this.context.msBackingStorePixelRatio ||\n        this.context.oBackingStorePixelRatio ||\n        this.context.backingStorePixelRatio ||\n        1;\n\n    this.ratio = (window.devicePixelRatio || 1) / backingStore;\n\n    var rubberband_canvas = (this.rubberband_canvas = document.createElement(\n        'canvas'\n    ));\n    rubberband_canvas.setAttribute(\n        'style',\n        'box-sizing: content-box;' +\n            'left: 0;' +\n            'pointer-events: none;' +\n            'position: absolute;' +\n            'top: 0;' +\n            'z-index: 1;'\n    );\n\n    // Apply a ponyfill if ResizeObserver is not implemented by browser.\n    if (this.ResizeObserver === undefined) {\n        if (window.ResizeObserver !== undefined) {\n            this.ResizeObserver = window.ResizeObserver;\n        } else {\n            var obs = _JSXTOOLS_RESIZE_OBSERVER({});\n            this.ResizeObserver = obs.ResizeObserver;\n        }\n    }\n\n    this.resizeObserverInstance = new this.ResizeObserver(function (entries) {\n        var nentries = entries.length;\n        for (var i = 0; i < nentries; i++) {\n            var entry = entries[i];\n            var width, height;\n            if (entry.contentBoxSize) {\n                if (entry.contentBoxSize instanceof Array) {\n                    // Chrome 84 implements new version of spec.\n                    width = entry.contentBoxSize[0].inlineSize;\n                    height = entry.contentBoxSize[0].blockSize;\n                } else {\n                    // Firefox implements old version of spec.\n                    width = entry.contentBoxSize.inlineSize;\n                    height = entry.contentBoxSize.blockSize;\n                }\n            } else {\n                // Chrome <84 implements even older version of spec.\n                width = entry.contentRect.width;\n                height = entry.contentRect.height;\n            }\n\n            // Keep the size of the canvas and rubber band canvas in sync with\n            // the canvas container.\n            if (entry.devicePixelContentBoxSize) {\n                // Chrome 84 implements new version of spec.\n                canvas.setAttribute(\n                    'width',\n                    entry.devicePixelContentBoxSize[0].inlineSize\n                );\n                canvas.setAttribute(\n                    'height',\n                    entry.devicePixelContentBoxSize[0].blockSize\n                );\n            } else {\n                canvas.setAttribute('width', width * fig.ratio);\n                canvas.setAttribute('height', height * fig.ratio);\n            }\n            /* This rescales the canvas back to display pixels, so that it\n             * appears correct on HiDPI screens. */\n            canvas.style.width = width + 'px';\n            canvas.style.height = height + 'px';\n\n            rubberband_canvas.setAttribute('width', width);\n            rubberband_canvas.setAttribute('height', height);\n\n            // And update the size in Python. We ignore the initial 0/0 size\n            // that occurs as the element is placed into the DOM, which should\n            // otherwise not happen due to the minimum size styling.\n            if (fig.ws.readyState == 1 && width != 0 && height != 0) {\n                fig.request_resize(width, height);\n            }\n        }\n    });\n    this.resizeObserverInstance.observe(canvas_div);\n\n    function on_mouse_event_closure(name) {\n        /* User Agent sniffing is bad, but WebKit is busted:\n         * https://bugs.webkit.org/show_bug.cgi?id=144526\n         * https://bugs.webkit.org/show_bug.cgi?id=181818\n         * The worst that happens here is that they get an extra browser\n         * selection when dragging, if this check fails to catch them.\n         */\n        var UA = navigator.userAgent;\n        var isWebKit = /AppleWebKit/.test(UA) && !/Chrome/.test(UA);\n        if(isWebKit) {\n            return function (event) {\n                /* This prevents the web browser from automatically changing to\n                 * the text insertion cursor when the button is pressed. We\n                 * want to control all of the cursor setting manually through\n                 * the 'cursor' event from matplotlib */\n                event.preventDefault()\n                return fig.mouse_event(event, name);\n            };\n        } else {\n            return function (event) {\n                return fig.mouse_event(event, name);\n            };\n        }\n    }\n\n    canvas_div.addEventListener(\n        'mousedown',\n        on_mouse_event_closure('button_press')\n    );\n    canvas_div.addEventListener(\n        'mouseup',\n        on_mouse_event_closure('button_release')\n    );\n    canvas_div.addEventListener(\n        'dblclick',\n        on_mouse_event_closure('dblclick')\n    );\n    // Throttle sequential mouse events to 1 every 20ms.\n    canvas_div.addEventListener(\n        'mousemove',\n        on_mouse_event_closure('motion_notify')\n    );\n\n    canvas_div.addEventListener(\n        'mouseenter',\n        on_mouse_event_closure('figure_enter')\n    );\n    canvas_div.addEventListener(\n        'mouseleave',\n        on_mouse_event_closure('figure_leave')\n    );\n\n    canvas_div.addEventListener('wheel', function (event) {\n        if (event.deltaY < 0) {\n            event.step = 1;\n        } else {\n            event.step = -1;\n        }\n        on_mouse_event_closure('scroll')(event);\n    });\n\n    canvas_div.appendChild(canvas);\n    canvas_div.appendChild(rubberband_canvas);\n\n    this.rubberband_context = rubberband_canvas.getContext('2d');\n    this.rubberband_context.strokeStyle = '#000000';\n\n    this._resize_canvas = function (width, height, forward) {\n        if (forward) {\n            canvas_div.style.width = width + 'px';\n            canvas_div.style.height = height + 'px';\n        }\n    };\n\n    // Disable right mouse context menu.\n    canvas_div.addEventListener('contextmenu', function (_e) {\n        event.preventDefault();\n        return false;\n    });\n\n    function set_focus() {\n        canvas.focus();\n        canvas_div.focus();\n    }\n\n    window.setTimeout(set_focus, 100);\n};\n\nmpl.figure.prototype._init_toolbar = function () {\n    var fig = this;\n\n    var toolbar = document.createElement('div');\n    toolbar.classList = 'mpl-toolbar';\n    this.root.appendChild(toolbar);\n\n    function on_click_closure(name) {\n        return function (_event) {\n            return fig.toolbar_button_onclick(name);\n        };\n    }\n\n    function on_mouseover_closure(tooltip) {\n        return function (event) {\n            if (!event.currentTarget.disabled) {\n                return fig.toolbar_button_onmouseover(tooltip);\n            }\n        };\n    }\n\n    fig.buttons = {};\n    var buttonGroup = document.createElement('div');\n    buttonGroup.classList = 'mpl-button-group';\n    for (var toolbar_ind in mpl.toolbar_items) {\n        var name = mpl.toolbar_items[toolbar_ind][0];\n        var tooltip = mpl.toolbar_items[toolbar_ind][1];\n        var image = mpl.toolbar_items[toolbar_ind][2];\n        var method_name = mpl.toolbar_items[toolbar_ind][3];\n\n        if (!name) {\n            /* Instead of a spacer, we start a new button group. */\n            if (buttonGroup.hasChildNodes()) {\n                toolbar.appendChild(buttonGroup);\n            }\n            buttonGroup = document.createElement('div');\n            buttonGroup.classList = 'mpl-button-group';\n            continue;\n        }\n\n        var button = (fig.buttons[name] = document.createElement('button'));\n        button.classList = 'mpl-widget';\n        button.setAttribute('role', 'button');\n        button.setAttribute('aria-disabled', 'false');\n        button.addEventListener('click', on_click_closure(method_name));\n        button.addEventListener('mouseover', on_mouseover_closure(tooltip));\n\n        var icon_img = document.createElement('img');\n        icon_img.src = '_images/' + image + '.png';\n        icon_img.srcset = '_images/' + image + '_large.png 2x';\n        icon_img.alt = tooltip;\n        button.appendChild(icon_img);\n\n        buttonGroup.appendChild(button);\n    }\n\n    if (buttonGroup.hasChildNodes()) {\n        toolbar.appendChild(buttonGroup);\n    }\n\n    var fmt_picker = document.createElement('select');\n    fmt_picker.classList = 'mpl-widget';\n    toolbar.appendChild(fmt_picker);\n    this.format_dropdown = fmt_picker;\n\n    for (var ind in mpl.extensions) {\n        var fmt = mpl.extensions[ind];\n        var option = document.createElement('option');\n        option.selected = fmt === mpl.default_extension;\n        option.innerHTML = fmt;\n        fmt_picker.appendChild(option);\n    }\n\n    var status_bar = document.createElement('span');\n    status_bar.classList = 'mpl-message';\n    toolbar.appendChild(status_bar);\n    this.message = status_bar;\n};\n\nmpl.figure.prototype.request_resize = function (x_pixels, y_pixels) {\n    // Request matplotlib to resize the figure. Matplotlib will then trigger a resize in the client,\n    // which will in turn request a refresh of the image.\n    this.send_message('resize', { width: x_pixels, height: y_pixels });\n};\n\nmpl.figure.prototype.send_message = function (type, properties) {\n    properties['type'] = type;\n    properties['figure_id'] = this.id;\n    this.ws.send(JSON.stringify(properties));\n};\n\nmpl.figure.prototype.send_draw_message = function () {\n    if (!this.waiting) {\n        this.waiting = true;\n        this.ws.send(JSON.stringify({ type: 'draw', figure_id: this.id }));\n    }\n};\n\nmpl.figure.prototype.handle_save = function (fig, _msg) {\n    var format_dropdown = fig.format_dropdown;\n    var format = format_dropdown.options[format_dropdown.selectedIndex].value;\n    fig.ondownload(fig, format);\n};\n\nmpl.figure.prototype.handle_resize = function (fig, msg) {\n    var size = msg['size'];\n    if (size[0] !== fig.canvas.width || size[1] !== fig.canvas.height) {\n        fig._resize_canvas(size[0], size[1], msg['forward']);\n        fig.send_message('refresh', {});\n    }\n};\n\nmpl.figure.prototype.handle_rubberband = function (fig, msg) {\n    var x0 = msg['x0'] / fig.ratio;\n    var y0 = (fig.canvas.height - msg['y0']) / fig.ratio;\n    var x1 = msg['x1'] / fig.ratio;\n    var y1 = (fig.canvas.height - msg['y1']) / fig.ratio;\n    x0 = Math.floor(x0) + 0.5;\n    y0 = Math.floor(y0) + 0.5;\n    x1 = Math.floor(x1) + 0.5;\n    y1 = Math.floor(y1) + 0.5;\n    var min_x = Math.min(x0, x1);\n    var min_y = Math.min(y0, y1);\n    var width = Math.abs(x1 - x0);\n    var height = Math.abs(y1 - y0);\n\n    fig.rubberband_context.clearRect(\n        0,\n        0,\n        fig.canvas.width / fig.ratio,\n        fig.canvas.height / fig.ratio\n    );\n\n    fig.rubberband_context.strokeRect(min_x, min_y, width, height);\n};\n\nmpl.figure.prototype.handle_figure_label = function (fig, msg) {\n    // Updates the figure title.\n    fig.header.textContent = msg['label'];\n};\n\nmpl.figure.prototype.handle_cursor = function (fig, msg) {\n    fig.canvas_div.style.cursor = msg['cursor'];\n};\n\nmpl.figure.prototype.handle_message = function (fig, msg) {\n    fig.message.textContent = msg['message'];\n};\n\nmpl.figure.prototype.handle_draw = function (fig, _msg) {\n    // Request the server to send over a new figure.\n    fig.send_draw_message();\n};\n\nmpl.figure.prototype.handle_image_mode = function (fig, msg) {\n    fig.image_mode = msg['mode'];\n};\n\nmpl.figure.prototype.handle_history_buttons = function (fig, msg) {\n    for (var key in msg) {\n        if (!(key in fig.buttons)) {\n            continue;\n        }\n        fig.buttons[key].disabled = !msg[key];\n        fig.buttons[key].setAttribute('aria-disabled', !msg[key]);\n    }\n};\n\nmpl.figure.prototype.handle_navigate_mode = function (fig, msg) {\n    if (msg['mode'] === 'PAN') {\n        fig.buttons['Pan'].classList.add('active');\n        fig.buttons['Zoom'].classList.remove('active');\n    } else if (msg['mode'] === 'ZOOM') {\n        fig.buttons['Pan'].classList.remove('active');\n        fig.buttons['Zoom'].classList.add('active');\n    } else {\n        fig.buttons['Pan'].classList.remove('active');\n        fig.buttons['Zoom'].classList.remove('active');\n    }\n};\n\nmpl.figure.prototype.updated_canvas_event = function () {\n    // Called whenever the canvas gets updated.\n    this.send_message('ack', {});\n};\n\n// A function to construct a web socket function for onmessage handling.\n// Called in the figure constructor.\nmpl.figure.prototype._make_on_message_function = function (fig) {\n    return function socket_on_message(evt) {\n        if (evt.data instanceof Blob) {\n            var img = evt.data;\n            if (img.type !== 'image/png') {\n                /* FIXME: We get \"Resource interpreted as Image but\n                 * transferred with MIME type text/plain:\" errors on\n                 * Chrome.  But how to set the MIME type?  It doesn't seem\n                 * to be part of the websocket stream */\n                img.type = 'image/png';\n            }\n\n            /* Free the memory for the previous frames */\n            if (fig.imageObj.src) {\n                (window.URL || window.webkitURL).revokeObjectURL(\n                    fig.imageObj.src\n                );\n            }\n\n            fig.imageObj.src = (window.URL || window.webkitURL).createObjectURL(\n                img\n            );\n            fig.updated_canvas_event();\n            fig.waiting = false;\n            return;\n        } else if (\n            typeof evt.data === 'string' &&\n            evt.data.slice(0, 21) === 'data:image/png;base64'\n        ) {\n            fig.imageObj.src = evt.data;\n            fig.updated_canvas_event();\n            fig.waiting = false;\n            return;\n        }\n\n        var msg = JSON.parse(evt.data);\n        var msg_type = msg['type'];\n\n        // Call the  \"handle_{type}\" callback, which takes\n        // the figure and JSON message as its only arguments.\n        try {\n            var callback = fig['handle_' + msg_type];\n        } catch (e) {\n            console.log(\n                \"No handler for the '\" + msg_type + \"' message type: \",\n                msg\n            );\n            return;\n        }\n\n        if (callback) {\n            try {\n                // console.log(\"Handling '\" + msg_type + \"' message: \", msg);\n                callback(fig, msg);\n            } catch (e) {\n                console.log(\n                    \"Exception inside the 'handler_\" + msg_type + \"' callback:\",\n                    e,\n                    e.stack,\n                    msg\n                );\n            }\n        }\n    };\n};\n\n\n/*\n * return a copy of an object with only non-object keys\n * we need this to avoid circular references\n * https://stackoverflow.com/a/24161582/3208463\n */\nfunction simpleKeys(original) {\n    return Object.keys(original).reduce(function (obj, key) {\n        if (typeof original[key] !== 'object') {\n            obj[key] = original[key];\n        }\n        return obj;\n    }, {});\n}\n\nmpl.figure.prototype.mouse_event = function (event, name) {\n    if (name === 'button_press') {\n        this.canvas.focus();\n        this.canvas_div.focus();\n    }\n\n    // from https://stackoverflow.com/q/1114465\n    var boundingRect = this.canvas.getBoundingClientRect();\n    var x = (event.clientX - boundingRect.left) * this.ratio;\n    var y = (event.clientY - boundingRect.top) * this.ratio;\n\n    this.send_message(name, {\n        x: x,\n        y: y,\n        button: event.button,\n        step: event.step,\n        guiEvent: simpleKeys(event),\n    });\n\n    return false;\n};\n\nmpl.figure.prototype._key_event_extra = function (_event, _name) {\n    // Handle any extra behaviour associated with a key event\n};\n\nmpl.figure.prototype.key_event = function (event, name) {\n    // Prevent repeat events\n    if (name === 'key_press') {\n        if (event.key === this._key) {\n            return;\n        } else {\n            this._key = event.key;\n        }\n    }\n    if (name === 'key_release') {\n        this._key = null;\n    }\n\n    var value = '';\n    if (event.ctrlKey && event.key !== 'Control') {\n        value += 'ctrl+';\n    }\n    else if (event.altKey && event.key !== 'Alt') {\n        value += 'alt+';\n    }\n    else if (event.shiftKey && event.key !== 'Shift') {\n        value += 'shift+';\n    }\n\n    value += 'k' + event.key;\n\n    this._key_event_extra(event, name);\n\n    this.send_message(name, { key: value, guiEvent: simpleKeys(event) });\n    return false;\n};\n\nmpl.figure.prototype.toolbar_button_onclick = function (name) {\n    if (name === 'download') {\n        this.handle_save(this, null);\n    } else {\n        this.send_message('toolbar_button', { name: name });\n    }\n};\n\nmpl.figure.prototype.toolbar_button_onmouseover = function (tooltip) {\n    this.message.textContent = tooltip;\n};\n\n///////////////// REMAINING CONTENT GENERATED BY embed_js.py /////////////////\n// prettier-ignore\nvar _JSXTOOLS_RESIZE_OBSERVER=function(A){var t,i=new WeakMap,n=new WeakMap,a=new WeakMap,r=new WeakMap,o=new Set;function s(e){if(!(this instanceof s))throw new TypeError(\"Constructor requires 'new' operator\");i.set(this,e)}function h(){throw new TypeError(\"Function is not a constructor\")}function c(e,t,i,n){e=0 in arguments?Number(arguments[0]):0,t=1 in arguments?Number(arguments[1]):0,i=2 in arguments?Number(arguments[2]):0,n=3 in arguments?Number(arguments[3]):0,this.right=(this.x=this.left=e)+(this.width=i),this.bottom=(this.y=this.top=t)+(this.height=n),Object.freeze(this)}function d(){t=requestAnimationFrame(d);var s=new WeakMap,p=new Set;o.forEach((function(t){r.get(t).forEach((function(i){var r=t instanceof window.SVGElement,o=a.get(t),d=r?0:parseFloat(o.paddingTop),f=r?0:parseFloat(o.paddingRight),l=r?0:parseFloat(o.paddingBottom),u=r?0:parseFloat(o.paddingLeft),g=r?0:parseFloat(o.borderTopWidth),m=r?0:parseFloat(o.borderRightWidth),w=r?0:parseFloat(o.borderBottomWidth),b=u+f,F=d+l,v=(r?0:parseFloat(o.borderLeftWidth))+m,W=g+w,y=r?0:t.offsetHeight-W-t.clientHeight,E=r?0:t.offsetWidth-v-t.clientWidth,R=b+v,z=F+W,M=r?t.width:parseFloat(o.width)-R-E,O=r?t.height:parseFloat(o.height)-z-y;if(n.has(t)){var k=n.get(t);if(k[0]===M&&k[1]===O)return}n.set(t,[M,O]);var S=Object.create(h.prototype);S.target=t,S.contentRect=new c(u,d,M,O),s.has(i)||(s.set(i,[]),p.add(i)),s.get(i).push(S)}))})),p.forEach((function(e){i.get(e).call(e,s.get(e),e)}))}return s.prototype.observe=function(i){if(i instanceof window.Element){r.has(i)||(r.set(i,new Set),o.add(i),a.set(i,window.getComputedStyle(i)));var n=r.get(i);n.has(this)||n.add(this),cancelAnimationFrame(t),t=requestAnimationFrame(d)}},s.prototype.unobserve=function(i){if(i instanceof window.Element&&r.has(i)){var n=r.get(i);n.has(this)&&(n.delete(this),n.size||(r.delete(i),o.delete(i))),n.size||r.delete(i),o.size||cancelAnimationFrame(t)}},A.DOMRectReadOnly=c,A.ResizeObserver=s,A.ResizeObserverEntry=h,A}; // eslint-disable-line\nmpl.toolbar_items = [[\"Home\", \"Reset original view\", \"fa fa-home\", \"home\"], [\"Back\", \"Back to previous view\", \"fa fa-arrow-left\", \"back\"], [\"Forward\", \"Forward to next view\", \"fa fa-arrow-right\", \"forward\"], [\"\", \"\", \"\", \"\"], [\"Pan\", \"Left button pans, Right button zooms\\nx/y fixes axis, CTRL fixes aspect\", \"fa fa-arrows\", \"pan\"], [\"Zoom\", \"Zoom to rectangle\\nx/y fixes axis\", \"fa fa-square-o\", \"zoom\"], [\"\", \"\", \"\", \"\"], [\"Download\", \"Download plot\", \"fa fa-floppy-o\", \"download\"]];\n\nmpl.extensions = [\"eps\", \"jpeg\", \"pgf\", \"pdf\", \"png\", \"ps\", \"raw\", \"svg\", \"tif\", \"webp\"];\n\nmpl.default_extension = \"png\";/* global mpl */\n\nvar comm_websocket_adapter = function (comm) {\n    // Create a \"websocket\"-like object which calls the given IPython comm\n    // object with the appropriate methods. Currently this is a non binary\n    // socket, so there is still some room for performance tuning.\n    var ws = {};\n\n    ws.binaryType = comm.kernel.ws.binaryType;\n    ws.readyState = comm.kernel.ws.readyState;\n    function updateReadyState(_event) {\n        if (comm.kernel.ws) {\n            ws.readyState = comm.kernel.ws.readyState;\n        } else {\n            ws.readyState = 3; // Closed state.\n        }\n    }\n    comm.kernel.ws.addEventListener('open', updateReadyState);\n    comm.kernel.ws.addEventListener('close', updateReadyState);\n    comm.kernel.ws.addEventListener('error', updateReadyState);\n\n    ws.close = function () {\n        comm.close();\n    };\n    ws.send = function (m) {\n        //console.log('sending', m);\n        comm.send(m);\n    };\n    // Register the callback with on_msg.\n    comm.on_msg(function (msg) {\n        //console.log('receiving', msg['content']['data'], msg);\n        var data = msg['content']['data'];\n        if (data['blob'] !== undefined) {\n            data = {\n                data: new Blob(msg['buffers'], { type: data['blob'] }),\n            };\n        }\n        // Pass the mpl event to the overridden (by mpl) onmessage function.\n        ws.onmessage(data);\n    });\n    return ws;\n};\n\nmpl.mpl_figure_comm = function (comm, msg) {\n    // This is the function which gets called when the mpl process\n    // starts-up an IPython Comm through the \"matplotlib\" channel.\n\n    var id = msg.content.data.id;\n    // Get hold of the div created by the display call when the Comm\n    // socket was opened in Python.\n    var element = document.getElementById(id);\n    var ws_proxy = comm_websocket_adapter(comm);\n\n    function ondownload(figure, _format) {\n        window.open(figure.canvas.toDataURL());\n    }\n\n    var fig = new mpl.figure(id, ws_proxy, ondownload, element);\n\n    // Call onopen now - mpl needs it, as it is assuming we've passed it a real\n    // web socket which is closed, not our websocket->open comm proxy.\n    ws_proxy.onopen();\n\n    fig.parent_element = element;\n    fig.cell_info = mpl.find_output_cell(\"<div id='\" + id + \"'></div>\");\n    if (!fig.cell_info) {\n        console.error('Failed to find cell for figure', id, fig);\n        return;\n    }\n    fig.cell_info[0].output_area.element.on(\n        'cleared',\n        { fig: fig },\n        fig._remove_fig_handler\n    );\n};\n\nmpl.figure.prototype.handle_close = function (fig, msg) {\n    var width = fig.canvas.width / fig.ratio;\n    fig.cell_info[0].output_area.element.off(\n        'cleared',\n        fig._remove_fig_handler\n    );\n    fig.resizeObserverInstance.unobserve(fig.canvas_div);\n\n    // Update the output cell to use the data from the current canvas.\n    fig.push_to_output();\n    var dataURL = fig.canvas.toDataURL();\n    // Re-enable the keyboard manager in IPython - without this line, in FF,\n    // the notebook keyboard shortcuts fail.\n    IPython.keyboard_manager.enable();\n    fig.parent_element.innerHTML =\n        '<img src=\"' + dataURL + '\" width=\"' + width + '\">';\n    fig.close_ws(fig, msg);\n};\n\nmpl.figure.prototype.close_ws = function (fig, msg) {\n    fig.send_message('closing', msg);\n    // fig.ws.close()\n};\n\nmpl.figure.prototype.push_to_output = function (_remove_interactive) {\n    // Turn the data on the canvas into data in the output cell.\n    var width = this.canvas.width / this.ratio;\n    var dataURL = this.canvas.toDataURL();\n    this.cell_info[1]['text/html'] =\n        '<img src=\"' + dataURL + '\" width=\"' + width + '\">';\n};\n\nmpl.figure.prototype.updated_canvas_event = function () {\n    // Tell IPython that the notebook contents must change.\n    IPython.notebook.set_dirty(true);\n    this.send_message('ack', {});\n    var fig = this;\n    // Wait a second, then push the new image to the DOM so\n    // that it is saved nicely (might be nice to debounce this).\n    setTimeout(function () {\n        fig.push_to_output();\n    }, 1000);\n};\n\nmpl.figure.prototype._init_toolbar = function () {\n    var fig = this;\n\n    var toolbar = document.createElement('div');\n    toolbar.classList = 'btn-toolbar';\n    this.root.appendChild(toolbar);\n\n    function on_click_closure(name) {\n        return function (_event) {\n            return fig.toolbar_button_onclick(name);\n        };\n    }\n\n    function on_mouseover_closure(tooltip) {\n        return function (event) {\n            if (!event.currentTarget.disabled) {\n                return fig.toolbar_button_onmouseover(tooltip);\n            }\n        };\n    }\n\n    fig.buttons = {};\n    var buttonGroup = document.createElement('div');\n    buttonGroup.classList = 'btn-group';\n    var button;\n    for (var toolbar_ind in mpl.toolbar_items) {\n        var name = mpl.toolbar_items[toolbar_ind][0];\n        var tooltip = mpl.toolbar_items[toolbar_ind][1];\n        var image = mpl.toolbar_items[toolbar_ind][2];\n        var method_name = mpl.toolbar_items[toolbar_ind][3];\n\n        if (!name) {\n            /* Instead of a spacer, we start a new button group. */\n            if (buttonGroup.hasChildNodes()) {\n                toolbar.appendChild(buttonGroup);\n            }\n            buttonGroup = document.createElement('div');\n            buttonGroup.classList = 'btn-group';\n            continue;\n        }\n\n        button = fig.buttons[name] = document.createElement('button');\n        button.classList = 'btn btn-default';\n        button.href = '#';\n        button.title = name;\n        button.innerHTML = '<i class=\"fa ' + image + ' fa-lg\"></i>';\n        button.addEventListener('click', on_click_closure(method_name));\n        button.addEventListener('mouseover', on_mouseover_closure(tooltip));\n        buttonGroup.appendChild(button);\n    }\n\n    if (buttonGroup.hasChildNodes()) {\n        toolbar.appendChild(buttonGroup);\n    }\n\n    // Add the status bar.\n    var status_bar = document.createElement('span');\n    status_bar.classList = 'mpl-message pull-right';\n    toolbar.appendChild(status_bar);\n    this.message = status_bar;\n\n    // Add the close button to the window.\n    var buttongrp = document.createElement('div');\n    buttongrp.classList = 'btn-group inline pull-right';\n    button = document.createElement('button');\n    button.classList = 'btn btn-mini btn-primary';\n    button.href = '#';\n    button.title = 'Stop Interaction';\n    button.innerHTML = '<i class=\"fa fa-power-off icon-remove icon-large\"></i>';\n    button.addEventListener('click', function (_evt) {\n        fig.handle_close(fig, {});\n    });\n    button.addEventListener(\n        'mouseover',\n        on_mouseover_closure('Stop Interaction')\n    );\n    buttongrp.appendChild(button);\n    var titlebar = this.root.querySelector('.ui-dialog-titlebar');\n    titlebar.insertBefore(buttongrp, titlebar.firstChild);\n};\n\nmpl.figure.prototype._remove_fig_handler = function (event) {\n    var fig = event.data.fig;\n    if (event.target !== this) {\n        // Ignore bubbled events from children.\n        return;\n    }\n    fig.close_ws(fig, {});\n};\n\nmpl.figure.prototype._root_extra_style = function (el) {\n    el.style.boxSizing = 'content-box'; // override notebook setting of border-box.\n};\n\nmpl.figure.prototype._canvas_extra_style = function (el) {\n    // this is important to make the div 'focusable\n    el.setAttribute('tabindex', 0);\n    // reach out to IPython and tell the keyboard manager to turn it's self\n    // off when our div gets focus\n\n    // location in version 3\n    if (IPython.notebook.keyboard_manager) {\n        IPython.notebook.keyboard_manager.register_events(el);\n    } else {\n        // location in version 2\n        IPython.keyboard_manager.register_events(el);\n    }\n};\n\nmpl.figure.prototype._key_event_extra = function (event, _name) {\n    // Check for shift+enter\n    if (event.shiftKey && event.which === 13) {\n        this.canvas_div.blur();\n        // select the cell after this one\n        var index = IPython.notebook.find_cell_index(this.cell_info[0]);\n        IPython.notebook.select(index + 1);\n    }\n};\n\nmpl.figure.prototype.handle_save = function (fig, _msg) {\n    fig.ondownload(fig, null);\n};\n\nmpl.find_output_cell = function (html_output) {\n    // Return the cell and output element which can be found *uniquely* in the notebook.\n    // Note - this is a bit hacky, but it is done because the \"notebook_saving.Notebook\"\n    // IPython event is triggered only after the cells have been serialised, which for\n    // our purposes (turning an active figure into a static one), is too late.\n    var cells = IPython.notebook.get_cells();\n    var ncells = cells.length;\n    for (var i = 0; i < ncells; i++) {\n        var cell = cells[i];\n        if (cell.cell_type === 'code') {\n            for (var j = 0; j < cell.output_area.outputs.length; j++) {\n                var data = cell.output_area.outputs[j];\n                if (data.data) {\n                    // IPython >= 3 moved mimebundle to data attribute of output\n                    data = data.data;\n                }\n                if (data['text/html'] === html_output) {\n                    return [cell, data, j];\n                }\n            }\n        }\n    }\n};\n\n// Register the function which deals with the matplotlib target/channel.\n// The kernel may be null if the page has been refreshed.\nif (IPython.notebook.kernel !== null) {\n    IPython.notebook.kernel.comm_manager.register_target(\n        'matplotlib',\n        mpl.mpl_figure_comm\n    );\n}\n"
     },
     "metadata": {},
     "output_type": "display_data"
    },
    {
     "data": {
      "text/plain": "<IPython.core.display.HTML object>",
      "text/html": "<div id='10d0f037-d88b-486f-9beb-5108aa7081bc'></div>"
     },
     "metadata": {},
     "output_type": "display_data"
    },
    {
     "ename": "NameError",
     "evalue": "name 'smoothed_illustration' is not defined",
     "output_type": "error",
     "traceback": [
      "\u001B[0;31m---------------------------------------------------------------------------\u001B[0m",
      "\u001B[0;31mNameError\u001B[0m                                 Traceback (most recent call last)",
      "Cell \u001B[0;32mIn[23], line 39\u001B[0m\n\u001B[1;32m      6\u001B[0m ax \u001B[38;5;241m=\u001B[39m fig\u001B[38;5;241m.\u001B[39madd_subplot(\u001B[38;5;241m1\u001B[39m,\u001B[38;5;241m1\u001B[39m,\u001B[38;5;241m1\u001B[39m, projection\u001B[38;5;241m=\u001B[39m\u001B[38;5;124m'\u001B[39m\u001B[38;5;124m3d\u001B[39m\u001B[38;5;124m'\u001B[39m)\n\u001B[1;32m      7\u001B[0m \u001B[38;5;66;03m# scatter=ax.scatter(illustration[0,:,0],illustration[0,:,1],color='k',s=1)\u001B[39;00m\n\u001B[1;32m      8\u001B[0m \u001B[38;5;66;03m# text_object=[]\u001B[39;00m\n\u001B[1;32m      9\u001B[0m \u001B[38;5;66;03m# for i,w in enumerate(illustration[0]):   \u001B[39;00m\n\u001B[0;32m   (...)\u001B[0m\n\u001B[1;32m     36\u001B[0m \u001B[38;5;66;03m#         if lemmatizer.lemmatize(answered_words[test_index[word_id]],pos='v')=='boot':\u001B[39;00m\n\u001B[1;32m     37\u001B[0m \u001B[38;5;66;03m#             ax.plot(smoothed_illustration[:,word_id,0],smoothed_illustration[:,word_id,1],smoothed_illustration[:,word_id,2],alpha=0.6,color='c')\u001B[39;00m\n\u001B[0;32m---> 39\u001B[0m \u001B[38;5;28;01mfor\u001B[39;00m i,w \u001B[38;5;129;01min\u001B[39;00m \u001B[38;5;28menumerate\u001B[39m(\u001B[43msmoothed_illustration\u001B[49m[\u001B[38;5;241m-\u001B[39m\u001B[38;5;241m1\u001B[39m,:,:]):   \n\u001B[1;32m     40\u001B[0m     \u001B[38;5;28;01mif\u001B[39;00m answered_words[test_index[i]] \u001B[38;5;129;01min\u001B[39;00m picked_words:\n\u001B[1;32m     41\u001B[0m         ax\u001B[38;5;241m.\u001B[39mtext(w[\u001B[38;5;241m0\u001B[39m],w[\u001B[38;5;241m1\u001B[39m],w[\u001B[38;5;241m2\u001B[39m],answered_words[test_index[i]],fontsize\u001B[38;5;241m=\u001B[39m\u001B[38;5;241m15\u001B[39m)\n",
      "\u001B[0;31mNameError\u001B[0m: name 'smoothed_illustration' is not defined"
     ]
    }
   ],
   "execution_count": 23
  },
  {
   "cell_type": "code",
   "execution_count": 23,
   "id": "f034ea0cc8dcf720",
   "metadata": {},
   "outputs": [],
   "source": [
    "# plt.rcParams['animation.ffmpeg_path'] = 'C:\\\\ffmpeg\\\\bin\\\\ffmpeg.exe'\n",
    "# ani.save('scatter_text_animation.mp4', writer='ffmpeg', fps=1)"
   ]
  },
  {
   "cell_type": "code",
   "id": "b1e366da-68d5-40b1-8b2a-1bb2423f9de6",
   "metadata": {
    "ExecuteTime": {
     "end_time": "2024-06-13T18:59:24.015328Z",
     "start_time": "2024-06-13T18:59:24.001357Z"
    }
   },
   "source": [
    "import pickle\n",
    "with open('3D_object.pk','wb') as f:\n",
    "    pickle.dump(fig,f)"
   ],
   "outputs": [],
   "execution_count": 90
  },
  {
   "metadata": {},
   "cell_type": "code",
   "outputs": [],
   "execution_count": null,
   "source": [],
   "id": "5b066463b60ae20c"
  }
 ],
 "metadata": {
  "kernelspec": {
   "display_name": "Python 3 (ipykernel)",
   "language": "python",
   "name": "python3"
  },
  "language_info": {
   "codemirror_mode": {
    "name": "ipython",
    "version": 3
   },
   "file_extension": ".py",
   "mimetype": "text/x-python",
   "name": "python",
   "nbconvert_exporter": "python",
   "pygments_lexer": "ipython3",
   "version": "3.9.19"
  }
 },
 "nbformat": 4,
 "nbformat_minor": 5
}
